{
 "cells": [
  {
   "cell_type": "code",
   "execution_count": 1122,
   "id": "390047e4-77e2-49ea-bda3-1db133281424",
   "metadata": {},
   "outputs": [],
   "source": [
    "import pandas as pd\n",
    "import numpy as np"
   ]
  },
  {
   "cell_type": "code",
   "execution_count": 1124,
   "id": "579cd92e-34e5-43e5-aa10-a3daedf5cfe2",
   "metadata": {},
   "outputs": [],
   "source": [
    "#Access the data sets\n",
    "def read_csv(file_name):\n",
    "    file_path=\"/Users/priyanka/Desktop/case study/data/\"+ file_name\n",
    "    return pd.read_csv(file_path,low_memory=False)"
   ]
  },
  {
   "cell_type": "code",
   "execution_count": 1126,
   "id": "d22ca640-a26e-4a26-ba89-95bfc2084f24",
   "metadata": {},
   "outputs": [],
   "source": [
    "# function to check missing values in df\n",
    "def get_null_counts(df):\n",
    "    null_counts = df.isnull().sum()\n",
    "    return null_counts[null_counts > 0]"
   ]
  },
  {
   "cell_type": "code",
   "execution_count": 1128,
   "id": "43b0f8fe-d821-4938-9ea9-f5c55ee198c4",
   "metadata": {},
   "outputs": [],
   "source": [
    "airport_codes=read_csv(\"Airport_codes.csv\")\n",
    "flights=read_csv(\"Flights.csv\")\n",
    "tickets_df=read_csv(\"Tickets.csv\")"
   ]
  },
  {
   "cell_type": "code",
   "execution_count": 1130,
   "id": "cbda901e-8373-4219-8f44-70d8db4cbed1",
   "metadata": {},
   "outputs": [
    {
     "name": "stdout",
     "output_type": "stream",
     "text": [
      "<class 'pandas.core.frame.DataFrame'>\n",
      "RangeIndex: 55369 entries, 0 to 55368\n",
      "Data columns (total 8 columns):\n",
      " #   Column        Non-Null Count  Dtype  \n",
      "---  ------        --------------  -----  \n",
      " 0   TYPE          55369 non-null  object \n",
      " 1   NAME          55369 non-null  object \n",
      " 2   ELEVATION_FT  48354 non-null  float64\n",
      " 3   CONTINENT     27526 non-null  object \n",
      " 4   ISO_COUNTRY   55122 non-null  object \n",
      " 5   MUNICIPALITY  49663 non-null  object \n",
      " 6   IATA_CODE     9182 non-null   object \n",
      " 7   COORDINATES   55369 non-null  object \n",
      "dtypes: float64(1), object(7)\n",
      "memory usage: 3.4+ MB\n"
     ]
    }
   ],
   "source": [
    "airport_codes.info()"
   ]
  },
  {
   "cell_type": "code",
   "execution_count": 1132,
   "id": "04122d32-1669-4cc5-90b2-3674a1631a99",
   "metadata": {},
   "outputs": [],
   "source": [
    "airport_codes = airport_codes[airport_codes['ISO_COUNTRY'] == 'US']\n",
    "airport_codes.reset_index(drop=True, inplace=True)"
   ]
  },
  {
   "cell_type": "code",
   "execution_count": 1134,
   "id": "0d0a7241-11c0-4cf6-8ae4-3a5caaa3d910",
   "metadata": {},
   "outputs": [],
   "source": [
    "#filtering only for large and medium airports\n",
    "airport_codes = airport_codes[airport_codes['TYPE'].isin({'medium_airport', 'large_airport'})]"
   ]
  },
  {
   "cell_type": "code",
   "execution_count": 1136,
   "id": "4f820f98-f870-4fa2-ad96-319cebc20894",
   "metadata": {},
   "outputs": [
    {
     "data": {
      "text/plain": [
       "array(['medium_airport', 'large_airport'], dtype=object)"
      ]
     },
     "execution_count": 1136,
     "metadata": {},
     "output_type": "execute_result"
    }
   ],
   "source": [
    "airport_codes['TYPE'].unique()"
   ]
  },
  {
   "cell_type": "code",
   "execution_count": 1138,
   "id": "bf4b3017-8361-4ff8-98d6-2dd9e8d2730f",
   "metadata": {},
   "outputs": [
    {
     "name": "stdout",
     "output_type": "stream",
     "text": [
      "Columns with missing values:\n",
      "ELEVATION_FT      3\n",
      "CONTINENT       858\n",
      "MUNICIPALITY      3\n",
      "IATA_CODE        37\n",
      "dtype: int64\n"
     ]
    }
   ],
   "source": [
    "#checking the null values in each column in the df \n",
    "null_columns = get_null_counts(airport_codes)\n",
    "print(\"Columns with missing values:\")\n",
    "print(null_columns)"
   ]
  },
  {
   "cell_type": "code",
   "execution_count": 1140,
   "id": "ab402e06-ee59-4c15-bc91-4814b8830ed2",
   "metadata": {},
   "outputs": [],
   "source": [
    "# filling only IATA Code with unknown, for the rest of the fields we dont need them in our analysis so not filling or considering them\n",
    "airport_codes['IATA_CODE'] = airport_codes['IATA_CODE'].fillna('Unknown')"
   ]
  },
  {
   "cell_type": "code",
   "execution_count": 1142,
   "id": "570fc5dd-0ecd-4248-b87a-4cb4f82aea3e",
   "metadata": {},
   "outputs": [
    {
     "data": {
      "text/html": [
       "<div>\n",
       "<style scoped>\n",
       "    .dataframe tbody tr th:only-of-type {\n",
       "        vertical-align: middle;\n",
       "    }\n",
       "\n",
       "    .dataframe tbody tr th {\n",
       "        vertical-align: top;\n",
       "    }\n",
       "\n",
       "    .dataframe thead th {\n",
       "        text-align: right;\n",
       "    }\n",
       "</style>\n",
       "<table border=\"1\" class=\"dataframe\">\n",
       "  <thead>\n",
       "    <tr style=\"text-align: right;\">\n",
       "      <th></th>\n",
       "      <th>TYPE</th>\n",
       "      <th>count</th>\n",
       "    </tr>\n",
       "  </thead>\n",
       "  <tbody>\n",
       "    <tr>\n",
       "      <th>0</th>\n",
       "      <td>large_airport</td>\n",
       "      <td>171</td>\n",
       "    </tr>\n",
       "    <tr>\n",
       "      <th>1</th>\n",
       "      <td>medium_airport</td>\n",
       "      <td>687</td>\n",
       "    </tr>\n",
       "  </tbody>\n",
       "</table>\n",
       "</div>"
      ],
      "text/plain": [
       "             TYPE  count\n",
       "0   large_airport    171\n",
       "1  medium_airport    687"
      ]
     },
     "execution_count": 1142,
     "metadata": {},
     "output_type": "execute_result"
    }
   ],
   "source": [
    "airport_counts = airport_codes.groupby('TYPE').size().reset_index(name='count')\n",
    "airport_counts"
   ]
  },
  {
   "cell_type": "code",
   "execution_count": 1144,
   "id": "e04fad26-224a-4773-bc79-5424930b2031",
   "metadata": {},
   "outputs": [
    {
     "name": "stdout",
     "output_type": "stream",
     "text": [
      "<class 'pandas.core.frame.DataFrame'>\n",
      "RangeIndex: 1915886 entries, 0 to 1915885\n",
      "Data columns (total 16 columns):\n",
      " #   Column             Dtype  \n",
      "---  ------             -----  \n",
      " 0   FL_DATE            object \n",
      " 1   OP_CARRIER         object \n",
      " 2   TAIL_NUM           object \n",
      " 3   OP_CARRIER_FL_NUM  object \n",
      " 4   ORIGIN_AIRPORT_ID  int64  \n",
      " 5   ORIGIN             object \n",
      " 6   ORIGIN_CITY_NAME   object \n",
      " 7   DEST_AIRPORT_ID    int64  \n",
      " 8   DESTINATION        object \n",
      " 9   DEST_CITY_NAME     object \n",
      " 10  DEP_DELAY          float64\n",
      " 11  ARR_DELAY          float64\n",
      " 12  CANCELLED          float64\n",
      " 13  AIR_TIME           object \n",
      " 14  DISTANCE           object \n",
      " 15  OCCUPANCY_RATE     float64\n",
      "dtypes: float64(4), int64(2), object(10)\n",
      "memory usage: 233.9+ MB\n"
     ]
    }
   ],
   "source": [
    "flights.info()"
   ]
  },
  {
   "cell_type": "code",
   "execution_count": 1146,
   "id": "1a316114-f5f1-417e-a260-327215ea7c84",
   "metadata": {},
   "outputs": [
    {
     "name": "stdout",
     "output_type": "stream",
     "text": [
      "AIR_TIME    float64\n",
      "DISTANCE    float64\n",
      "dtype: object\n"
     ]
    }
   ],
   "source": [
    "#Changing the datatype of airtime and distance as they are suppose to be numeric\n",
    "flights[['AIR_TIME', 'DISTANCE']] = flights[['AIR_TIME', 'DISTANCE']].apply(\n",
    "    lambda x: pd.to_numeric(x, errors='coerce')\n",
    ")\n",
    "print(flights.dtypes[['AIR_TIME', 'DISTANCE']])"
   ]
  },
  {
   "cell_type": "code",
   "execution_count": 1148,
   "id": "14dc98bb-0ffa-400e-861a-6c6038f835e4",
   "metadata": {},
   "outputs": [],
   "source": [
    "# Fill NaNs in Distance and airtime and Occupancy with their respective medians\n",
    "flights[['DISTANCE', 'AIR_TIME','OCCUPANCY_RATE']] = flights[['DISTANCE', 'AIR_TIME','OCCUPANCY_RATE']].apply(lambda col: col.fillna(col.median()))\n"
   ]
  },
  {
   "cell_type": "code",
   "execution_count": 1150,
   "id": "254c83a6-f12b-461a-a0cf-679d942524b6",
   "metadata": {},
   "outputs": [],
   "source": [
    "flights['CANCELLED'] = flights['CANCELLED'].round().astype(int)"
   ]
  },
  {
   "cell_type": "code",
   "execution_count": 1152,
   "id": "4b090b76-b630-43c8-9243-9dd2103c5487",
   "metadata": {},
   "outputs": [
    {
     "data": {
      "text/plain": [
       "(1915886, 16)"
      ]
     },
     "execution_count": 1152,
     "metadata": {},
     "output_type": "execute_result"
    }
   ],
   "source": [
    "flights.shape"
   ]
  },
  {
   "cell_type": "code",
   "execution_count": 1154,
   "id": "0dd92861-9804-4d40-85cc-c14903b862ef",
   "metadata": {},
   "outputs": [],
   "source": [
    "#Excluding the cancelled flights\n",
    "flights=flights[flights['CANCELLED'] == 0]\n",
    "flights.reset_index(drop=True, inplace=True)"
   ]
  },
  {
   "cell_type": "code",
   "execution_count": 1156,
   "id": "3d88479c-2e7d-44b7-8ab9-9139ca8e4529",
   "metadata": {},
   "outputs": [
    {
     "data": {
      "text/plain": [
       "(1864272, 16)"
      ]
     },
     "execution_count": 1156,
     "metadata": {},
     "output_type": "execute_result"
    }
   ],
   "source": [
    "flights.shape"
   ]
  },
  {
   "cell_type": "code",
   "execution_count": 1158,
   "id": "1ed23adb-2295-443b-8064-f460839699b3",
   "metadata": {},
   "outputs": [
    {
     "name": "stdout",
     "output_type": "stream",
     "text": [
      "[0]\n"
     ]
    }
   ],
   "source": [
    "print(flights['CANCELLED'].unique())"
   ]
  },
  {
   "cell_type": "code",
   "execution_count": 1160,
   "id": "d83bd86d-1671-4b6b-bc25-8fec3a4bcad7",
   "metadata": {},
   "outputs": [
    {
     "data": {
      "text/html": [
       "<div>\n",
       "<style scoped>\n",
       "    .dataframe tbody tr th:only-of-type {\n",
       "        vertical-align: middle;\n",
       "    }\n",
       "\n",
       "    .dataframe tbody tr th {\n",
       "        vertical-align: top;\n",
       "    }\n",
       "\n",
       "    .dataframe thead th {\n",
       "        text-align: right;\n",
       "    }\n",
       "</style>\n",
       "<table border=\"1\" class=\"dataframe\">\n",
       "  <thead>\n",
       "    <tr style=\"text-align: right;\">\n",
       "      <th></th>\n",
       "      <th>CANCELLED</th>\n",
       "      <th>count</th>\n",
       "    </tr>\n",
       "  </thead>\n",
       "  <tbody>\n",
       "    <tr>\n",
       "      <th>0</th>\n",
       "      <td>0</td>\n",
       "      <td>1864272</td>\n",
       "    </tr>\n",
       "  </tbody>\n",
       "</table>\n",
       "</div>"
      ],
      "text/plain": [
       "   CANCELLED    count\n",
       "0          0  1864272"
      ]
     },
     "execution_count": 1160,
     "metadata": {},
     "output_type": "execute_result"
    }
   ],
   "source": [
    "flight_count= flights.groupby('CANCELLED').size().reset_index(name='count')\n",
    "flight_count"
   ]
  },
  {
   "cell_type": "code",
   "execution_count": 1162,
   "id": "95fd1bb7-7694-43f1-94c5-fae1059eb7bf",
   "metadata": {},
   "outputs": [
    {
     "data": {
      "text/plain": [
       "ARR_DELAY    4377\n",
       "dtype: int64"
      ]
     },
     "execution_count": 1162,
     "metadata": {},
     "output_type": "execute_result"
    }
   ],
   "source": [
    "#Finding the null values in flights \n",
    "get_null_counts(flights)"
   ]
  },
  {
   "cell_type": "code",
   "execution_count": 1164,
   "id": "e350e6d9-2464-4448-9713-98a31b551497",
   "metadata": {},
   "outputs": [
    {
     "name": "stdout",
     "output_type": "stream",
     "text": [
      "['2019-03-02' '2019-03-03' '2019-03-09' '2019-03-10' '2019-03-24'\n",
      " '2019-03-28' '2019-03-29' '2019-03-30' '2019-03-20' '2019-03-25'\n",
      " '2019-03-26' '2019-03-31' '2019-03-13' '2019-03-14' '2019-03-12'\n",
      " '2019-03-11' '2019-03-15' '2019-03-16' '2019-03-17' '2019-03-18'\n",
      " '2019-03-19' '2019-03-21' '2019-03-22' '2019-03-23' '2019-03-27'\n",
      " '2019-03-01' '2019-03-04' '2019-03-05' '2019-03-06' '2019-03-07'\n",
      " '2019-03-08' '2019-02-17' '2019-02-18' '2019-02-19' '2019-02-20'\n",
      " '2019-02-21' '2019-02-22' '2019-02-23' '2019-02-24' '2019-02-26'\n",
      " '2019-02-27' '2019-02-28' '2019-02-01' '2019-02-02' '2019-02-03'\n",
      " '2019-02-04' '2019-02-05' '2019-02-06' '2019-02-07' '2019-02-08'\n",
      " '2019-02-09' '2019-02-10' '2019-02-11' '2019-02-12' '2019-02-13'\n",
      " '2019-02-14' '2019-02-15' '2019-02-16' '2019-02-25' '2019-01-21'\n",
      " '2019-01-24' '2019-01-25' '2019-01-26' '2019-01-27' '2019-01-28'\n",
      " '2019-01-31' '2019-01-01' '2019-01-02' '2019-01-03' '2019-01-04'\n",
      " '2019-01-05' '2019-01-06' '2019-01-07' '2019-01-08' '2019-01-09'\n",
      " '2019-01-10' '2019-01-11' '2019-01-12' '2019-01-13' '2019-01-14'\n",
      " '2019-01-15' '2019-01-16' '2019-01-17' '2019-01-18' '2019-01-19'\n",
      " '2019-01-22' '2019-01-23' '2019-01-29' '2019-01-30' '2019-01-20' '2/2/19'\n",
      " '3/2/19' '1/2/19' '1/12/19' '2/23/19' '2/5/19' '1/31/19' '2/21/19'\n",
      " '1/1/19' '1/23/19' '1/9/19' '2/9/19' '1/8/19' '1/18/19' '3/22/19'\n",
      " '3/23/19' '3/24/19' '3/26/19' '3/27/19' '3/28/19' '3/29/19' '3/30/19'\n",
      " '3/31/19' '3/1/19' '3/3/19' '3/4/19' '3/5/19' '3/6/19' '3/7/19' '3/8/19'\n",
      " '3/9/19' '3/10/19' '3/11/19' '3/12/19' '3/13/19' '3/14/19' '3/15/19'\n",
      " '3/16/19' '3/17/19' '3/18/19' '3/19/19' '3/20/19' '3/21/19' '3/25/19']\n"
     ]
    }
   ],
   "source": [
    "#Checking the format of the date's to make all of them in the same format\n",
    "print(flights['FL_DATE'].unique())"
   ]
  },
  {
   "cell_type": "code",
   "execution_count": 1166,
   "id": "27eb9ab5-5b88-44be-bac7-4591d4948396",
   "metadata": {},
   "outputs": [],
   "source": [
    "#Checking with different format's and changing them to yyyy-mm-dd format\n",
    "mmddyy_mask = flights['FL_DATE'].str.match(r'^\\d{1,2}/\\d{1,2}/\\d{2}$')\n",
    "\n",
    "# Step 2: Convert only those rows\n",
    "flights.loc[mmddyy_mask, 'FL_DATE'] = pd.to_datetime(\n",
    "    flights.loc[mmddyy_mask, 'FL_DATE'],\n",
    "    format='%m/%d/%y',\n",
    "    errors='coerce'\n",
    ").dt.strftime('%Y-%m-%d')  # Output in YYYY-MM-DD format"
   ]
  },
  {
   "cell_type": "code",
   "execution_count": 1168,
   "id": "bc8f4151-523f-4f6b-b368-60828399ce95",
   "metadata": {},
   "outputs": [
    {
     "name": "stdout",
     "output_type": "stream",
     "text": [
      "['2019-03-02' '2019-03-03' '2019-03-09' '2019-03-10' '2019-03-24'\n",
      " '2019-03-28' '2019-03-29' '2019-03-30' '2019-03-20' '2019-03-25'\n",
      " '2019-03-26' '2019-03-31' '2019-03-13' '2019-03-14' '2019-03-12'\n",
      " '2019-03-11' '2019-03-15' '2019-03-16' '2019-03-17' '2019-03-18'\n",
      " '2019-03-19' '2019-03-21' '2019-03-22' '2019-03-23' '2019-03-27'\n",
      " '2019-03-01' '2019-03-04' '2019-03-05' '2019-03-06' '2019-03-07'\n",
      " '2019-03-08' '2019-02-17' '2019-02-18' '2019-02-19' '2019-02-20'\n",
      " '2019-02-21' '2019-02-22' '2019-02-23' '2019-02-24' '2019-02-26'\n",
      " '2019-02-27' '2019-02-28' '2019-02-01' '2019-02-02' '2019-02-03'\n",
      " '2019-02-04' '2019-02-05' '2019-02-06' '2019-02-07' '2019-02-08'\n",
      " '2019-02-09' '2019-02-10' '2019-02-11' '2019-02-12' '2019-02-13'\n",
      " '2019-02-14' '2019-02-15' '2019-02-16' '2019-02-25' '2019-01-21'\n",
      " '2019-01-24' '2019-01-25' '2019-01-26' '2019-01-27' '2019-01-28'\n",
      " '2019-01-31' '2019-01-01' '2019-01-02' '2019-01-03' '2019-01-04'\n",
      " '2019-01-05' '2019-01-06' '2019-01-07' '2019-01-08' '2019-01-09'\n",
      " '2019-01-10' '2019-01-11' '2019-01-12' '2019-01-13' '2019-01-14'\n",
      " '2019-01-15' '2019-01-16' '2019-01-17' '2019-01-18' '2019-01-19'\n",
      " '2019-01-22' '2019-01-23' '2019-01-29' '2019-01-30' '2019-01-20']\n"
     ]
    }
   ],
   "source": [
    "print(flights['FL_DATE'].unique())"
   ]
  },
  {
   "cell_type": "code",
   "execution_count": 1170,
   "id": "afeb8268-73ec-4b2c-8af3-cff69f541197",
   "metadata": {},
   "outputs": [
    {
     "name": "stdout",
     "output_type": "stream",
     "text": [
      "<class 'pandas.core.frame.DataFrame'>\n",
      "RangeIndex: 1167285 entries, 0 to 1167284\n",
      "Data columns (total 12 columns):\n",
      " #   Column             Non-Null Count    Dtype  \n",
      "---  ------             --------------    -----  \n",
      " 0   ITIN_ID            1167285 non-null  int64  \n",
      " 1   YEAR               1167285 non-null  int64  \n",
      " 2   QUARTER            1167285 non-null  int64  \n",
      " 3   ORIGIN             1167285 non-null  object \n",
      " 4   ORIGIN_COUNTRY     1167285 non-null  object \n",
      " 5   ORIGIN_STATE_ABR   1167285 non-null  object \n",
      " 6   ORIGIN_STATE_NM    1167285 non-null  object \n",
      " 7   ROUNDTRIP          1167285 non-null  float64\n",
      " 8   REPORTING_CARRIER  1167285 non-null  object \n",
      " 9   PASSENGERS         1165308 non-null  float64\n",
      " 10  ITIN_FARE          1166325 non-null  object \n",
      " 11  DESTINATION        1167285 non-null  object \n",
      "dtypes: float64(2), int64(3), object(7)\n",
      "memory usage: 106.9+ MB\n"
     ]
    }
   ],
   "source": [
    "tickets_df.info()"
   ]
  },
  {
   "cell_type": "code",
   "execution_count": 1172,
   "id": "4e470889-d512-406e-8e0f-112dad48282a",
   "metadata": {},
   "outputs": [
    {
     "data": {
      "text/plain": [
       "array(['736.0', '570.0', '564.0', ..., '4109.0', '4942.0', '2343.0'],\n",
       "      dtype=object)"
      ]
     },
     "execution_count": 1172,
     "metadata": {},
     "output_type": "execute_result"
    }
   ],
   "source": [
    "tickets_df['ITIN_FARE'].unique()"
   ]
  },
  {
   "cell_type": "code",
   "execution_count": 1174,
   "id": "bdc0b152-5557-43fb-a946-7f56a2f2bdf4",
   "metadata": {},
   "outputs": [],
   "source": [
    "tickets_df['ITIN_FARE'] = pd.to_numeric(tickets_df['ITIN_FARE'], errors='coerce')"
   ]
  },
  {
   "cell_type": "code",
   "execution_count": 1176,
   "id": "2dc2c268-e065-447a-b2f5-679efb18ebf7",
   "metadata": {},
   "outputs": [
    {
     "data": {
      "text/plain": [
       "PASSENGERS    1977\n",
       "ITIN_FARE     4136\n",
       "dtype: int64"
      ]
     },
     "execution_count": 1176,
     "metadata": {},
     "output_type": "execute_result"
    }
   ],
   "source": [
    "get_null_counts(tickets_df)"
   ]
  },
  {
   "cell_type": "code",
   "execution_count": 1178,
   "id": "ac0e4cfb-8852-4a2b-9bcd-ca8a437839ef",
   "metadata": {},
   "outputs": [],
   "source": [
    "# Fill NaNs in ITIN_FARE and PASSENGERS with their respective medians\n",
    "tickets_df[['ITIN_FARE', 'PASSENGERS']] = tickets_df[['ITIN_FARE', 'PASSENGERS']].apply(lambda col: col.fillna(col.median()))"
   ]
  },
  {
   "cell_type": "code",
   "execution_count": 1180,
   "id": "16e33169-fc77-4eca-a7ba-06a0a08f9b04",
   "metadata": {},
   "outputs": [
    {
     "data": {
      "text/plain": [
       "(1167285, 12)"
      ]
     },
     "execution_count": 1180,
     "metadata": {},
     "output_type": "execute_result"
    }
   ],
   "source": [
    "tickets_df.shape"
   ]
  },
  {
   "cell_type": "code",
   "execution_count": 1182,
   "id": "6b2667e1-8373-4e0a-afbf-2239801eed83",
   "metadata": {},
   "outputs": [],
   "source": [
    "#Excluding the cancelled flights\n",
    "tickets_df=tickets_df[tickets_df['ROUNDTRIP'] == 1]\n",
    "tickets_df.reset_index(drop=True, inplace=True)"
   ]
  },
  {
   "cell_type": "code",
   "execution_count": 1184,
   "id": "bed55c30-065c-48e2-b62d-c92cc5d4277e",
   "metadata": {},
   "outputs": [
    {
     "data": {
      "text/plain": [
       "(708600, 12)"
      ]
     },
     "execution_count": 1184,
     "metadata": {},
     "output_type": "execute_result"
    }
   ],
   "source": [
    "tickets_df.shape"
   ]
  },
  {
   "cell_type": "code",
   "execution_count": 1186,
   "id": "2e8bb660-c0b8-4a71-a862-174f0e19fed7",
   "metadata": {},
   "outputs": [
    {
     "data": {
      "text/plain": [
       "Series([], dtype: int64)"
      ]
     },
     "execution_count": 1186,
     "metadata": {},
     "output_type": "execute_result"
    }
   ],
   "source": [
    "get_null_counts(tickets_df)"
   ]
  },
  {
   "cell_type": "code",
   "execution_count": 1188,
   "id": "9a5bb9db-e695-4423-99cc-a18d4203241e",
   "metadata": {},
   "outputs": [],
   "source": [
    "#Merging with flights and airport codes for filtering with airport type inner join on IATA Code.\n",
    "flights_airports_origin = pd.merge(\n",
    "    flights,\n",
    "    airport_codes,\n",
    "    how='inner',\n",
    "    left_on='ORIGIN',\n",
    "    right_on='IATA_CODE',\n",
    "    suffixes=('_Flt', '_Apt')  # Suffixes for Flights and Airports\n",
    ")"
   ]
  },
  {
   "cell_type": "code",
   "execution_count": 1190,
   "id": "8ff3a2dc-1a69-49ee-9d9e-b5d3e2bbddad",
   "metadata": {},
   "outputs": [],
   "source": [
    "# Joining twice to filter for both origin and destination level\n",
    "flights_full = pd.merge(\n",
    "    flights_airports_origin,\n",
    "    airport_codes,\n",
    "    how='inner',\n",
    "    left_on='DESTINATION',\n",
    "    right_on='IATA_CODE',\n",
    "    suffixes=('_Origin', '_Dest')\n",
    ")"
   ]
  },
  {
   "cell_type": "code",
   "execution_count": 1192,
   "id": "27df6619-b077-4297-92a2-8b48c673cc3b",
   "metadata": {},
   "outputs": [
    {
     "data": {
      "text/html": [
       "<div>\n",
       "<style scoped>\n",
       "    .dataframe tbody tr th:only-of-type {\n",
       "        vertical-align: middle;\n",
       "    }\n",
       "\n",
       "    .dataframe tbody tr th {\n",
       "        vertical-align: top;\n",
       "    }\n",
       "\n",
       "    .dataframe thead th {\n",
       "        text-align: right;\n",
       "    }\n",
       "</style>\n",
       "<table border=\"1\" class=\"dataframe\">\n",
       "  <thead>\n",
       "    <tr style=\"text-align: right;\">\n",
       "      <th></th>\n",
       "      <th>FL_DATE</th>\n",
       "      <th>OP_CARRIER</th>\n",
       "      <th>TAIL_NUM</th>\n",
       "      <th>OP_CARRIER_FL_NUM</th>\n",
       "      <th>ORIGIN_AIRPORT_ID</th>\n",
       "      <th>ORIGIN</th>\n",
       "      <th>ORIGIN_CITY_NAME</th>\n",
       "      <th>DEST_AIRPORT_ID</th>\n",
       "      <th>DESTINATION</th>\n",
       "      <th>DEST_CITY_NAME</th>\n",
       "      <th>...</th>\n",
       "      <th>IATA_CODE_Origin</th>\n",
       "      <th>COORDINATES_Origin</th>\n",
       "      <th>TYPE_Dest</th>\n",
       "      <th>NAME_Dest</th>\n",
       "      <th>ELEVATION_FT_Dest</th>\n",
       "      <th>CONTINENT_Dest</th>\n",
       "      <th>ISO_COUNTRY_Dest</th>\n",
       "      <th>MUNICIPALITY_Dest</th>\n",
       "      <th>IATA_CODE_Dest</th>\n",
       "      <th>COORDINATES_Dest</th>\n",
       "    </tr>\n",
       "  </thead>\n",
       "  <tbody>\n",
       "    <tr>\n",
       "      <th>0</th>\n",
       "      <td>2019-03-02</td>\n",
       "      <td>WN</td>\n",
       "      <td>N955WN</td>\n",
       "      <td>4591</td>\n",
       "      <td>14635</td>\n",
       "      <td>RSW</td>\n",
       "      <td>Fort Myers, FL</td>\n",
       "      <td>11042</td>\n",
       "      <td>CLE</td>\n",
       "      <td>Cleveland, OH</td>\n",
       "      <td>...</td>\n",
       "      <td>RSW</td>\n",
       "      <td>-81.75520324707031, 26.53619956970215</td>\n",
       "      <td>large_airport</td>\n",
       "      <td>Cleveland Hopkins International Airport</td>\n",
       "      <td>791.0</td>\n",
       "      <td>NaN</td>\n",
       "      <td>US</td>\n",
       "      <td>Cleveland</td>\n",
       "      <td>CLE</td>\n",
       "      <td>-81.8498001099, 41.4117012024</td>\n",
       "    </tr>\n",
       "    <tr>\n",
       "      <th>1</th>\n",
       "      <td>2019-03-02</td>\n",
       "      <td>WN</td>\n",
       "      <td>N8686A</td>\n",
       "      <td>3231</td>\n",
       "      <td>14635</td>\n",
       "      <td>RSW</td>\n",
       "      <td>Fort Myers, FL</td>\n",
       "      <td>11066</td>\n",
       "      <td>CMH</td>\n",
       "      <td>Columbus, OH</td>\n",
       "      <td>...</td>\n",
       "      <td>RSW</td>\n",
       "      <td>-81.75520324707031, 26.53619956970215</td>\n",
       "      <td>large_airport</td>\n",
       "      <td>John Glenn Columbus International Airport</td>\n",
       "      <td>815.0</td>\n",
       "      <td>NaN</td>\n",
       "      <td>US</td>\n",
       "      <td>Columbus</td>\n",
       "      <td>CMH</td>\n",
       "      <td>-82.891899, 39.998001</td>\n",
       "    </tr>\n",
       "    <tr>\n",
       "      <th>2</th>\n",
       "      <td>2019-03-02</td>\n",
       "      <td>WN</td>\n",
       "      <td>N201LV</td>\n",
       "      <td>3383</td>\n",
       "      <td>14635</td>\n",
       "      <td>RSW</td>\n",
       "      <td>Fort Myers, FL</td>\n",
       "      <td>11066</td>\n",
       "      <td>CMH</td>\n",
       "      <td>Columbus, OH</td>\n",
       "      <td>...</td>\n",
       "      <td>RSW</td>\n",
       "      <td>-81.75520324707031, 26.53619956970215</td>\n",
       "      <td>large_airport</td>\n",
       "      <td>John Glenn Columbus International Airport</td>\n",
       "      <td>815.0</td>\n",
       "      <td>NaN</td>\n",
       "      <td>US</td>\n",
       "      <td>Columbus</td>\n",
       "      <td>CMH</td>\n",
       "      <td>-82.891899, 39.998001</td>\n",
       "    </tr>\n",
       "    <tr>\n",
       "      <th>3</th>\n",
       "      <td>2019-03-02</td>\n",
       "      <td>WN</td>\n",
       "      <td>N413WN</td>\n",
       "      <td>5498</td>\n",
       "      <td>14635</td>\n",
       "      <td>RSW</td>\n",
       "      <td>Fort Myers, FL</td>\n",
       "      <td>11066</td>\n",
       "      <td>CMH</td>\n",
       "      <td>Columbus, OH</td>\n",
       "      <td>...</td>\n",
       "      <td>RSW</td>\n",
       "      <td>-81.75520324707031, 26.53619956970215</td>\n",
       "      <td>large_airport</td>\n",
       "      <td>John Glenn Columbus International Airport</td>\n",
       "      <td>815.0</td>\n",
       "      <td>NaN</td>\n",
       "      <td>US</td>\n",
       "      <td>Columbus</td>\n",
       "      <td>CMH</td>\n",
       "      <td>-82.891899, 39.998001</td>\n",
       "    </tr>\n",
       "    <tr>\n",
       "      <th>4</th>\n",
       "      <td>2019-03-02</td>\n",
       "      <td>WN</td>\n",
       "      <td>N7832A</td>\n",
       "      <td>6933</td>\n",
       "      <td>14635</td>\n",
       "      <td>RSW</td>\n",
       "      <td>Fort Myers, FL</td>\n",
       "      <td>11259</td>\n",
       "      <td>DAL</td>\n",
       "      <td>Dallas, TX</td>\n",
       "      <td>...</td>\n",
       "      <td>RSW</td>\n",
       "      <td>-81.75520324707031, 26.53619956970215</td>\n",
       "      <td>large_airport</td>\n",
       "      <td>Dallas Love Field</td>\n",
       "      <td>487.0</td>\n",
       "      <td>NaN</td>\n",
       "      <td>US</td>\n",
       "      <td>Dallas</td>\n",
       "      <td>DAL</td>\n",
       "      <td>-96.851799, 32.847099</td>\n",
       "    </tr>\n",
       "  </tbody>\n",
       "</table>\n",
       "<p>5 rows × 32 columns</p>\n",
       "</div>"
      ],
      "text/plain": [
       "      FL_DATE OP_CARRIER TAIL_NUM OP_CARRIER_FL_NUM  ORIGIN_AIRPORT_ID ORIGIN  \\\n",
       "0  2019-03-02         WN   N955WN              4591              14635    RSW   \n",
       "1  2019-03-02         WN   N8686A              3231              14635    RSW   \n",
       "2  2019-03-02         WN   N201LV              3383              14635    RSW   \n",
       "3  2019-03-02         WN   N413WN              5498              14635    RSW   \n",
       "4  2019-03-02         WN   N7832A              6933              14635    RSW   \n",
       "\n",
       "  ORIGIN_CITY_NAME  DEST_AIRPORT_ID DESTINATION DEST_CITY_NAME  ...  \\\n",
       "0   Fort Myers, FL            11042         CLE  Cleveland, OH  ...   \n",
       "1   Fort Myers, FL            11066         CMH   Columbus, OH  ...   \n",
       "2   Fort Myers, FL            11066         CMH   Columbus, OH  ...   \n",
       "3   Fort Myers, FL            11066         CMH   Columbus, OH  ...   \n",
       "4   Fort Myers, FL            11259         DAL     Dallas, TX  ...   \n",
       "\n",
       "   IATA_CODE_Origin                     COORDINATES_Origin      TYPE_Dest  \\\n",
       "0               RSW  -81.75520324707031, 26.53619956970215  large_airport   \n",
       "1               RSW  -81.75520324707031, 26.53619956970215  large_airport   \n",
       "2               RSW  -81.75520324707031, 26.53619956970215  large_airport   \n",
       "3               RSW  -81.75520324707031, 26.53619956970215  large_airport   \n",
       "4               RSW  -81.75520324707031, 26.53619956970215  large_airport   \n",
       "\n",
       "                                   NAME_Dest  ELEVATION_FT_Dest  \\\n",
       "0    Cleveland Hopkins International Airport              791.0   \n",
       "1  John Glenn Columbus International Airport              815.0   \n",
       "2  John Glenn Columbus International Airport              815.0   \n",
       "3  John Glenn Columbus International Airport              815.0   \n",
       "4                          Dallas Love Field              487.0   \n",
       "\n",
       "   CONTINENT_Dest ISO_COUNTRY_Dest MUNICIPALITY_Dest  IATA_CODE_Dest  \\\n",
       "0             NaN               US         Cleveland             CLE   \n",
       "1             NaN               US          Columbus             CMH   \n",
       "2             NaN               US          Columbus             CMH   \n",
       "3             NaN               US          Columbus             CMH   \n",
       "4             NaN               US            Dallas             DAL   \n",
       "\n",
       "                COORDINATES_Dest  \n",
       "0  -81.8498001099, 41.4117012024  \n",
       "1          -82.891899, 39.998001  \n",
       "2          -82.891899, 39.998001  \n",
       "3          -82.891899, 39.998001  \n",
       "4          -96.851799, 32.847099  \n",
       "\n",
       "[5 rows x 32 columns]"
      ]
     },
     "execution_count": 1192,
     "metadata": {},
     "output_type": "execute_result"
    }
   ],
   "source": [
    "flights_full.head(5)"
   ]
  },
  {
   "cell_type": "code",
   "execution_count": 381,
   "id": "f90c3b45-2808-423a-8bbb-d4754279458e",
   "metadata": {},
   "outputs": [],
   "source": [
    "flights_full.to_csv('/Users/priyanka/Desktop/capital one case study/data/f_a.csv', index=False)"
   ]
  },
  {
   "cell_type": "code",
   "execution_count": 1194,
   "id": "8d1ea06a-4b62-4f49-b306-7496cfd0f06b",
   "metadata": {},
   "outputs": [],
   "source": [
    "flights_airport = flights_full"
   ]
  },
  {
   "cell_type": "code",
   "execution_count": 1196,
   "id": "075ed4ab-612a-4655-b594-353bae0923d5",
   "metadata": {},
   "outputs": [
    {
     "name": "stdout",
     "output_type": "stream",
     "text": [
      "<class 'pandas.core.frame.DataFrame'>\n",
      "RangeIndex: 1832457 entries, 0 to 1832456\n",
      "Data columns (total 32 columns):\n",
      " #   Column               Dtype  \n",
      "---  ------               -----  \n",
      " 0   FL_DATE              object \n",
      " 1   OP_CARRIER           object \n",
      " 2   TAIL_NUM             object \n",
      " 3   OP_CARRIER_FL_NUM    object \n",
      " 4   ORIGIN_AIRPORT_ID    int64  \n",
      " 5   ORIGIN               object \n",
      " 6   ORIGIN_CITY_NAME     object \n",
      " 7   DEST_AIRPORT_ID      int64  \n",
      " 8   DESTINATION          object \n",
      " 9   DEST_CITY_NAME       object \n",
      " 10  DEP_DELAY            float64\n",
      " 11  ARR_DELAY            float64\n",
      " 12  CANCELLED            int64  \n",
      " 13  AIR_TIME             float64\n",
      " 14  DISTANCE             float64\n",
      " 15  OCCUPANCY_RATE       float64\n",
      " 16  TYPE_Origin          object \n",
      " 17  NAME_Origin          object \n",
      " 18  ELEVATION_FT_Origin  float64\n",
      " 19  CONTINENT_Origin     object \n",
      " 20  ISO_COUNTRY_Origin   object \n",
      " 21  MUNICIPALITY_Origin  object \n",
      " 22  IATA_CODE_Origin     object \n",
      " 23  COORDINATES_Origin   object \n",
      " 24  TYPE_Dest            object \n",
      " 25  NAME_Dest            object \n",
      " 26  ELEVATION_FT_Dest    float64\n",
      " 27  CONTINENT_Dest       object \n",
      " 28  ISO_COUNTRY_Dest     object \n",
      " 29  MUNICIPALITY_Dest    object \n",
      " 30  IATA_CODE_Dest       object \n",
      " 31  COORDINATES_Dest     object \n",
      "dtypes: float64(7), int64(3), object(22)\n",
      "memory usage: 447.4+ MB\n"
     ]
    }
   ],
   "source": [
    "flights_airport.info()"
   ]
  },
  {
   "cell_type": "code",
   "execution_count": 1198,
   "id": "9b6fd665-a33c-42ce-a5c9-27d6c50ece5f",
   "metadata": {},
   "outputs": [],
   "source": [
    "flights_airport['FL_DATE']=pd.to_datetime(flights_airport['FL_DATE'])"
   ]
  },
  {
   "cell_type": "code",
   "execution_count": 1200,
   "id": "8ae2846c-b152-4b96-bb92-7065d81e17c8",
   "metadata": {},
   "outputs": [
    {
     "data": {
      "text/plain": [
       "0          True\n",
       "1          True\n",
       "2          True\n",
       "3          True\n",
       "4          True\n",
       "           ... \n",
       "1832452    True\n",
       "1832453    True\n",
       "1832454    True\n",
       "1832455    True\n",
       "1832456    True\n",
       "Name: FL_DATE, Length: 1832457, dtype: bool"
      ]
     },
     "execution_count": 1200,
     "metadata": {},
     "output_type": "execute_result"
    }
   ],
   "source": [
    "#Filtering for 2019-Q1 data\n",
    "(flights_airport['FL_DATE'].dt.year == 2019) & (flights_airport['FL_DATE'].dt.quarter == 1)"
   ]
  },
  {
   "cell_type": "code",
   "execution_count": 1202,
   "id": "38e05e7a-755a-4024-a60c-859ea1a4ebe8",
   "metadata": {},
   "outputs": [
    {
     "data": {
      "text/plain": [
       "<DatetimeArray>\n",
       "['2019-03-02 00:00:00', '2019-03-03 00:00:00', '2019-03-09 00:00:00',\n",
       " '2019-03-10 00:00:00', '2019-03-24 00:00:00', '2019-03-28 00:00:00',\n",
       " '2019-03-29 00:00:00', '2019-03-30 00:00:00', '2019-03-20 00:00:00',\n",
       " '2019-03-25 00:00:00', '2019-03-26 00:00:00', '2019-03-31 00:00:00',\n",
       " '2019-03-13 00:00:00', '2019-03-14 00:00:00', '2019-03-12 00:00:00',\n",
       " '2019-03-11 00:00:00', '2019-03-15 00:00:00', '2019-03-16 00:00:00',\n",
       " '2019-03-17 00:00:00', '2019-03-18 00:00:00', '2019-03-19 00:00:00',\n",
       " '2019-03-21 00:00:00', '2019-03-22 00:00:00', '2019-03-23 00:00:00',\n",
       " '2019-03-27 00:00:00', '2019-03-01 00:00:00', '2019-03-04 00:00:00',\n",
       " '2019-03-05 00:00:00', '2019-03-06 00:00:00', '2019-03-07 00:00:00',\n",
       " '2019-03-08 00:00:00', '2019-02-17 00:00:00', '2019-02-18 00:00:00',\n",
       " '2019-02-19 00:00:00', '2019-02-20 00:00:00', '2019-02-21 00:00:00',\n",
       " '2019-02-22 00:00:00', '2019-02-23 00:00:00', '2019-02-24 00:00:00',\n",
       " '2019-02-26 00:00:00', '2019-02-27 00:00:00', '2019-02-28 00:00:00',\n",
       " '2019-02-01 00:00:00', '2019-02-02 00:00:00', '2019-02-03 00:00:00',\n",
       " '2019-02-04 00:00:00', '2019-02-05 00:00:00', '2019-02-06 00:00:00',\n",
       " '2019-02-07 00:00:00', '2019-02-08 00:00:00', '2019-02-09 00:00:00',\n",
       " '2019-02-10 00:00:00', '2019-02-11 00:00:00', '2019-02-12 00:00:00',\n",
       " '2019-02-13 00:00:00', '2019-02-14 00:00:00', '2019-02-15 00:00:00',\n",
       " '2019-02-16 00:00:00', '2019-02-25 00:00:00', '2019-01-21 00:00:00',\n",
       " '2019-01-24 00:00:00', '2019-01-25 00:00:00', '2019-01-26 00:00:00',\n",
       " '2019-01-27 00:00:00', '2019-01-28 00:00:00', '2019-01-31 00:00:00',\n",
       " '2019-01-01 00:00:00', '2019-01-02 00:00:00', '2019-01-03 00:00:00',\n",
       " '2019-01-04 00:00:00', '2019-01-05 00:00:00', '2019-01-06 00:00:00',\n",
       " '2019-01-07 00:00:00', '2019-01-08 00:00:00', '2019-01-09 00:00:00',\n",
       " '2019-01-10 00:00:00', '2019-01-11 00:00:00', '2019-01-12 00:00:00',\n",
       " '2019-01-13 00:00:00', '2019-01-14 00:00:00', '2019-01-15 00:00:00',\n",
       " '2019-01-16 00:00:00', '2019-01-17 00:00:00', '2019-01-18 00:00:00',\n",
       " '2019-01-19 00:00:00', '2019-01-22 00:00:00', '2019-01-23 00:00:00',\n",
       " '2019-01-29 00:00:00', '2019-01-30 00:00:00', '2019-01-20 00:00:00']\n",
       "Length: 90, dtype: datetime64[ns]"
      ]
     },
     "execution_count": 1202,
     "metadata": {},
     "output_type": "execute_result"
    }
   ],
   "source": [
    "flights_airport['FL_DATE'].unique()"
   ]
  },
  {
   "cell_type": "code",
   "execution_count": 1204,
   "id": "f9d7c200-1902-4016-b0b2-1c0ee29fe0ad",
   "metadata": {},
   "outputs": [],
   "source": [
    "#Creating the Route column to consider the round trip flight ( JFK - LAX , LAX - JFK considered as single route)\n",
    "flights_airport['Route'] = flights_airport[['ORIGIN', 'DESTINATION']].agg(lambda x: '-'.join(sorted(x)), axis=1)"
   ]
  },
  {
   "cell_type": "code",
   "execution_count": 1206,
   "id": "78cfa58b-bb46-46f5-90a1-88286392fe09",
   "metadata": {},
   "outputs": [],
   "source": [
    "route_counts = flights_airport.groupby('Route').size().reset_index(name='FlightCount')"
   ]
  },
  {
   "cell_type": "code",
   "execution_count": 1208,
   "id": "31fcb56e-98fe-46d1-9eb9-44f7e2d27871",
   "metadata": {},
   "outputs": [
    {
     "name": "stdout",
     "output_type": "stream",
     "text": [
      "        Route  FlightCount\n",
      "2162  LAX-SFO         8340\n",
      "2203  LGA-ORD         7156\n",
      "2066  LAS-LAX         6511\n",
      "2010  JFK-LAX         6320\n",
      "2161  LAX-SEA         4999\n",
      "550   BOS-LGA         4820\n",
      "1772  HNL-OGG         4794\n",
      "2618  PDX-SEA         4774\n",
      "193   ATL-MCO         4707\n",
      "189   ATL-LGA         4594\n"
     ]
    }
   ],
   "source": [
    "#Top 10 busiest routes based on roundtrips ( considered only round trips and Q1 Data, excluded cancelled flights )\n",
    "top_10_busiest_routes = route_counts.sort_values(by='FlightCount', ascending=False).head(10)\n",
    "print(top_10_busiest_routes)"
   ]
  },
  {
   "cell_type": "code",
   "execution_count": 1210,
   "id": "047460c6-0184-4c06-bbd6-058f479c574a",
   "metadata": {},
   "outputs": [
    {
     "data": {
      "text/html": [
       "<div>\n",
       "<style scoped>\n",
       "    .dataframe tbody tr th:only-of-type {\n",
       "        vertical-align: middle;\n",
       "    }\n",
       "\n",
       "    .dataframe tbody tr th {\n",
       "        vertical-align: top;\n",
       "    }\n",
       "\n",
       "    .dataframe thead th {\n",
       "        text-align: right;\n",
       "    }\n",
       "</style>\n",
       "<table border=\"1\" class=\"dataframe\">\n",
       "  <thead>\n",
       "    <tr style=\"text-align: right;\">\n",
       "      <th></th>\n",
       "      <th>ITIN_ID</th>\n",
       "      <th>YEAR</th>\n",
       "      <th>QUARTER</th>\n",
       "      <th>ORIGIN</th>\n",
       "      <th>ORIGIN_COUNTRY</th>\n",
       "      <th>ORIGIN_STATE_ABR</th>\n",
       "      <th>ORIGIN_STATE_NM</th>\n",
       "      <th>ROUNDTRIP</th>\n",
       "      <th>REPORTING_CARRIER</th>\n",
       "      <th>PASSENGERS</th>\n",
       "      <th>ITIN_FARE</th>\n",
       "      <th>DESTINATION</th>\n",
       "    </tr>\n",
       "  </thead>\n",
       "  <tbody>\n",
       "    <tr>\n",
       "      <th>0</th>\n",
       "      <td>201912723049</td>\n",
       "      <td>2019</td>\n",
       "      <td>1</td>\n",
       "      <td>ABI</td>\n",
       "      <td>US</td>\n",
       "      <td>TX</td>\n",
       "      <td>Texas</td>\n",
       "      <td>1.0</td>\n",
       "      <td>MQ</td>\n",
       "      <td>1.0</td>\n",
       "      <td>736.0</td>\n",
       "      <td>DAB</td>\n",
       "    </tr>\n",
       "    <tr>\n",
       "      <th>1</th>\n",
       "      <td>201912723085</td>\n",
       "      <td>2019</td>\n",
       "      <td>1</td>\n",
       "      <td>ABI</td>\n",
       "      <td>US</td>\n",
       "      <td>TX</td>\n",
       "      <td>Texas</td>\n",
       "      <td>1.0</td>\n",
       "      <td>MQ</td>\n",
       "      <td>1.0</td>\n",
       "      <td>570.0</td>\n",
       "      <td>COS</td>\n",
       "    </tr>\n",
       "    <tr>\n",
       "      <th>2</th>\n",
       "      <td>201912723491</td>\n",
       "      <td>2019</td>\n",
       "      <td>1</td>\n",
       "      <td>ABI</td>\n",
       "      <td>US</td>\n",
       "      <td>TX</td>\n",
       "      <td>Texas</td>\n",
       "      <td>1.0</td>\n",
       "      <td>MQ</td>\n",
       "      <td>1.0</td>\n",
       "      <td>564.0</td>\n",
       "      <td>MCO</td>\n",
       "    </tr>\n",
       "    <tr>\n",
       "      <th>3</th>\n",
       "      <td>201912723428</td>\n",
       "      <td>2019</td>\n",
       "      <td>1</td>\n",
       "      <td>ABI</td>\n",
       "      <td>US</td>\n",
       "      <td>TX</td>\n",
       "      <td>Texas</td>\n",
       "      <td>1.0</td>\n",
       "      <td>MQ</td>\n",
       "      <td>1.0</td>\n",
       "      <td>345.0</td>\n",
       "      <td>LGA</td>\n",
       "    </tr>\n",
       "    <tr>\n",
       "      <th>4</th>\n",
       "      <td>201912723337</td>\n",
       "      <td>2019</td>\n",
       "      <td>1</td>\n",
       "      <td>ABI</td>\n",
       "      <td>US</td>\n",
       "      <td>TX</td>\n",
       "      <td>Texas</td>\n",
       "      <td>1.0</td>\n",
       "      <td>MQ</td>\n",
       "      <td>1.0</td>\n",
       "      <td>1647.0</td>\n",
       "      <td>JAX</td>\n",
       "    </tr>\n",
       "    <tr>\n",
       "      <th>5</th>\n",
       "      <td>201912723447</td>\n",
       "      <td>2019</td>\n",
       "      <td>1</td>\n",
       "      <td>ABI</td>\n",
       "      <td>US</td>\n",
       "      <td>TX</td>\n",
       "      <td>Texas</td>\n",
       "      <td>1.0</td>\n",
       "      <td>MQ</td>\n",
       "      <td>1.0</td>\n",
       "      <td>425.0</td>\n",
       "      <td>LIT</td>\n",
       "    </tr>\n",
       "    <tr>\n",
       "      <th>6</th>\n",
       "      <td>201912723815</td>\n",
       "      <td>2019</td>\n",
       "      <td>1</td>\n",
       "      <td>ABI</td>\n",
       "      <td>US</td>\n",
       "      <td>TX</td>\n",
       "      <td>Texas</td>\n",
       "      <td>1.0</td>\n",
       "      <td>MQ</td>\n",
       "      <td>1.0</td>\n",
       "      <td>1445.0</td>\n",
       "      <td>FAI</td>\n",
       "    </tr>\n",
       "    <tr>\n",
       "      <th>7</th>\n",
       "      <td>201912722986</td>\n",
       "      <td>2019</td>\n",
       "      <td>1</td>\n",
       "      <td>ABI</td>\n",
       "      <td>US</td>\n",
       "      <td>TX</td>\n",
       "      <td>Texas</td>\n",
       "      <td>1.0</td>\n",
       "      <td>MQ</td>\n",
       "      <td>1.0</td>\n",
       "      <td>842.0</td>\n",
       "      <td>BNA</td>\n",
       "    </tr>\n",
       "    <tr>\n",
       "      <th>8</th>\n",
       "      <td>201912723745</td>\n",
       "      <td>2019</td>\n",
       "      <td>1</td>\n",
       "      <td>ABI</td>\n",
       "      <td>US</td>\n",
       "      <td>TX</td>\n",
       "      <td>Texas</td>\n",
       "      <td>1.0</td>\n",
       "      <td>MQ</td>\n",
       "      <td>1.0</td>\n",
       "      <td>279.0</td>\n",
       "      <td>RDU</td>\n",
       "    </tr>\n",
       "    <tr>\n",
       "      <th>9</th>\n",
       "      <td>201912723032</td>\n",
       "      <td>2019</td>\n",
       "      <td>1</td>\n",
       "      <td>ABI</td>\n",
       "      <td>US</td>\n",
       "      <td>TX</td>\n",
       "      <td>Texas</td>\n",
       "      <td>1.0</td>\n",
       "      <td>MQ</td>\n",
       "      <td>1.0</td>\n",
       "      <td>379.0</td>\n",
       "      <td>CLE</td>\n",
       "    </tr>\n",
       "  </tbody>\n",
       "</table>\n",
       "</div>"
      ],
      "text/plain": [
       "        ITIN_ID  YEAR  QUARTER ORIGIN ORIGIN_COUNTRY ORIGIN_STATE_ABR  \\\n",
       "0  201912723049  2019        1    ABI             US               TX   \n",
       "1  201912723085  2019        1    ABI             US               TX   \n",
       "2  201912723491  2019        1    ABI             US               TX   \n",
       "3  201912723428  2019        1    ABI             US               TX   \n",
       "4  201912723337  2019        1    ABI             US               TX   \n",
       "5  201912723447  2019        1    ABI             US               TX   \n",
       "6  201912723815  2019        1    ABI             US               TX   \n",
       "7  201912722986  2019        1    ABI             US               TX   \n",
       "8  201912723745  2019        1    ABI             US               TX   \n",
       "9  201912723032  2019        1    ABI             US               TX   \n",
       "\n",
       "  ORIGIN_STATE_NM  ROUNDTRIP REPORTING_CARRIER  PASSENGERS  ITIN_FARE  \\\n",
       "0           Texas        1.0                MQ         1.0      736.0   \n",
       "1           Texas        1.0                MQ         1.0      570.0   \n",
       "2           Texas        1.0                MQ         1.0      564.0   \n",
       "3           Texas        1.0                MQ         1.0      345.0   \n",
       "4           Texas        1.0                MQ         1.0     1647.0   \n",
       "5           Texas        1.0                MQ         1.0      425.0   \n",
       "6           Texas        1.0                MQ         1.0     1445.0   \n",
       "7           Texas        1.0                MQ         1.0      842.0   \n",
       "8           Texas        1.0                MQ         1.0      279.0   \n",
       "9           Texas        1.0                MQ         1.0      379.0   \n",
       "\n",
       "  DESTINATION  \n",
       "0         DAB  \n",
       "1         COS  \n",
       "2         MCO  \n",
       "3         LGA  \n",
       "4         JAX  \n",
       "5         LIT  \n",
       "6         FAI  \n",
       "7         BNA  \n",
       "8         RDU  \n",
       "9         CLE  "
      ]
     },
     "execution_count": 1210,
     "metadata": {},
     "output_type": "execute_result"
    }
   ],
   "source": [
    "tickets_df.head(10)"
   ]
  },
  {
   "cell_type": "code",
   "execution_count": 1212,
   "id": "02ed4fca-0bc5-49fc-991a-055938ea6efd",
   "metadata": {},
   "outputs": [
    {
     "data": {
      "text/plain": [
       "Series([], dtype: int64)"
      ]
     },
     "execution_count": 1212,
     "metadata": {},
     "output_type": "execute_result"
    }
   ],
   "source": [
    "get_null_counts(tickets_df)"
   ]
  },
  {
   "cell_type": "code",
   "execution_count": 1214,
   "id": "933f7bf0-370b-4e8d-ae4e-53a4f2d23796",
   "metadata": {},
   "outputs": [],
   "source": [
    "#Creating the route column in tickets also\n",
    "tickets_df['Route'] = tickets_df[['ORIGIN', 'DESTINATION']].agg(lambda x: '-'.join(sorted(x)), axis=1)"
   ]
  },
  {
   "cell_type": "code",
   "execution_count": 1216,
   "id": "bf03ea30-fe99-46ab-b29f-83a5eb96fbce",
   "metadata": {},
   "outputs": [
    {
     "name": "stdout",
     "output_type": "stream",
     "text": [
      "<class 'pandas.core.frame.DataFrame'>\n",
      "RangeIndex: 708600 entries, 0 to 708599\n",
      "Data columns (total 13 columns):\n",
      " #   Column             Non-Null Count   Dtype  \n",
      "---  ------             --------------   -----  \n",
      " 0   ITIN_ID            708600 non-null  int64  \n",
      " 1   YEAR               708600 non-null  int64  \n",
      " 2   QUARTER            708600 non-null  int64  \n",
      " 3   ORIGIN             708600 non-null  object \n",
      " 4   ORIGIN_COUNTRY     708600 non-null  object \n",
      " 5   ORIGIN_STATE_ABR   708600 non-null  object \n",
      " 6   ORIGIN_STATE_NM    708600 non-null  object \n",
      " 7   ROUNDTRIP          708600 non-null  float64\n",
      " 8   REPORTING_CARRIER  708600 non-null  object \n",
      " 9   PASSENGERS         708600 non-null  float64\n",
      " 10  ITIN_FARE          708600 non-null  float64\n",
      " 11  DESTINATION        708600 non-null  object \n",
      " 12  Route              708600 non-null  object \n",
      "dtypes: float64(3), int64(3), object(7)\n",
      "memory usage: 70.3+ MB\n"
     ]
    }
   ],
   "source": [
    "tickets_df.info()"
   ]
  },
  {
   "cell_type": "code",
   "execution_count": 1056,
   "id": "797d4396-95ab-4d1d-9f55-ab55eef4e8b1",
   "metadata": {},
   "outputs": [],
   "source": [
    "# Aggregate Revenue from Tickets group by Route and Reporting carrier\n",
    "tickets_grouped_df = tickets_df.groupby(['Route']).agg(\n",
    "    Total_Passengers=('PASSENGERS', 'sum'),\n",
    "    Total_Itinfare=('ITIN_FARE','sum')\n",
    ").reset_index()"
   ]
  },
  {
   "cell_type": "code",
   "execution_count": 1058,
   "id": "97237585-b2ee-4b39-9ef7-433e836dd879",
   "metadata": {},
   "outputs": [],
   "source": [
    "tickets_grouped_df1=tickets_grouped_df"
   ]
  },
  {
   "cell_type": "code",
   "execution_count": 1060,
   "id": "d3658950-1759-4973-86ee-0fc80b52c90d",
   "metadata": {},
   "outputs": [],
   "source": [
    "#Revenue generated from tickets\n",
    "tickets_grouped_df1['TOTAL_TICKETS_REV']=tickets_grouped_df1['Total_Passengers']*(tickets_grouped_df1['Total_Itinfare'])"
   ]
  },
  {
   "cell_type": "code",
   "execution_count": 1062,
   "id": "c22339ba-d19c-426b-9202-71b30208dc52",
   "metadata": {},
   "outputs": [
    {
     "name": "stdout",
     "output_type": "stream",
     "text": [
      "     Route  Total_Passengers  Total_Itinfare  TOTAL_TICKETS_REV\n",
      "0  ABE-ABI               2.0          1516.0             3032.0\n",
      "1  ABE-ABQ               2.0          1068.0             2136.0\n",
      "2  ABE-AGS               3.0          1173.0             3519.0\n",
      "3  ABE-AMA               1.0           654.0              654.0\n",
      "4  ABE-ASE               2.0          1484.0             2968.0\n"
     ]
    }
   ],
   "source": [
    "print(tickets_grouped_df1.head())"
   ]
  },
  {
   "cell_type": "code",
   "execution_count": 1064,
   "id": "2e4644e3-4595-460b-94cf-486e535c0223",
   "metadata": {},
   "outputs": [
    {
     "data": {
      "text/html": [
       "<div>\n",
       "<style scoped>\n",
       "    .dataframe tbody tr th:only-of-type {\n",
       "        vertical-align: middle;\n",
       "    }\n",
       "\n",
       "    .dataframe tbody tr th {\n",
       "        vertical-align: top;\n",
       "    }\n",
       "\n",
       "    .dataframe thead th {\n",
       "        text-align: right;\n",
       "    }\n",
       "</style>\n",
       "<table border=\"1\" class=\"dataframe\">\n",
       "  <thead>\n",
       "    <tr style=\"text-align: right;\">\n",
       "      <th></th>\n",
       "      <th>FL_DATE</th>\n",
       "      <th>OP_CARRIER</th>\n",
       "      <th>TAIL_NUM</th>\n",
       "      <th>OP_CARRIER_FL_NUM</th>\n",
       "      <th>ORIGIN_AIRPORT_ID</th>\n",
       "      <th>ORIGIN</th>\n",
       "      <th>ORIGIN_CITY_NAME</th>\n",
       "      <th>DEST_AIRPORT_ID</th>\n",
       "      <th>DESTINATION</th>\n",
       "      <th>DEST_CITY_NAME</th>\n",
       "      <th>...</th>\n",
       "      <th>COORDINATES_Origin</th>\n",
       "      <th>TYPE_Dest</th>\n",
       "      <th>NAME_Dest</th>\n",
       "      <th>ELEVATION_FT_Dest</th>\n",
       "      <th>CONTINENT_Dest</th>\n",
       "      <th>ISO_COUNTRY_Dest</th>\n",
       "      <th>MUNICIPALITY_Dest</th>\n",
       "      <th>IATA_CODE_Dest</th>\n",
       "      <th>COORDINATES_Dest</th>\n",
       "      <th>Route</th>\n",
       "    </tr>\n",
       "  </thead>\n",
       "  <tbody>\n",
       "    <tr>\n",
       "      <th>0</th>\n",
       "      <td>2019-03-02</td>\n",
       "      <td>WN</td>\n",
       "      <td>N955WN</td>\n",
       "      <td>4591</td>\n",
       "      <td>14635</td>\n",
       "      <td>RSW</td>\n",
       "      <td>Fort Myers, FL</td>\n",
       "      <td>11042</td>\n",
       "      <td>CLE</td>\n",
       "      <td>Cleveland, OH</td>\n",
       "      <td>...</td>\n",
       "      <td>-81.75520324707031, 26.53619956970215</td>\n",
       "      <td>large_airport</td>\n",
       "      <td>Cleveland Hopkins International Airport</td>\n",
       "      <td>791.0</td>\n",
       "      <td>NaN</td>\n",
       "      <td>US</td>\n",
       "      <td>Cleveland</td>\n",
       "      <td>CLE</td>\n",
       "      <td>-81.8498001099, 41.4117012024</td>\n",
       "      <td>CLE-RSW</td>\n",
       "    </tr>\n",
       "    <tr>\n",
       "      <th>1</th>\n",
       "      <td>2019-03-02</td>\n",
       "      <td>WN</td>\n",
       "      <td>N8686A</td>\n",
       "      <td>3231</td>\n",
       "      <td>14635</td>\n",
       "      <td>RSW</td>\n",
       "      <td>Fort Myers, FL</td>\n",
       "      <td>11066</td>\n",
       "      <td>CMH</td>\n",
       "      <td>Columbus, OH</td>\n",
       "      <td>...</td>\n",
       "      <td>-81.75520324707031, 26.53619956970215</td>\n",
       "      <td>large_airport</td>\n",
       "      <td>John Glenn Columbus International Airport</td>\n",
       "      <td>815.0</td>\n",
       "      <td>NaN</td>\n",
       "      <td>US</td>\n",
       "      <td>Columbus</td>\n",
       "      <td>CMH</td>\n",
       "      <td>-82.891899, 39.998001</td>\n",
       "      <td>CMH-RSW</td>\n",
       "    </tr>\n",
       "    <tr>\n",
       "      <th>2</th>\n",
       "      <td>2019-03-02</td>\n",
       "      <td>WN</td>\n",
       "      <td>N201LV</td>\n",
       "      <td>3383</td>\n",
       "      <td>14635</td>\n",
       "      <td>RSW</td>\n",
       "      <td>Fort Myers, FL</td>\n",
       "      <td>11066</td>\n",
       "      <td>CMH</td>\n",
       "      <td>Columbus, OH</td>\n",
       "      <td>...</td>\n",
       "      <td>-81.75520324707031, 26.53619956970215</td>\n",
       "      <td>large_airport</td>\n",
       "      <td>John Glenn Columbus International Airport</td>\n",
       "      <td>815.0</td>\n",
       "      <td>NaN</td>\n",
       "      <td>US</td>\n",
       "      <td>Columbus</td>\n",
       "      <td>CMH</td>\n",
       "      <td>-82.891899, 39.998001</td>\n",
       "      <td>CMH-RSW</td>\n",
       "    </tr>\n",
       "    <tr>\n",
       "      <th>3</th>\n",
       "      <td>2019-03-02</td>\n",
       "      <td>WN</td>\n",
       "      <td>N413WN</td>\n",
       "      <td>5498</td>\n",
       "      <td>14635</td>\n",
       "      <td>RSW</td>\n",
       "      <td>Fort Myers, FL</td>\n",
       "      <td>11066</td>\n",
       "      <td>CMH</td>\n",
       "      <td>Columbus, OH</td>\n",
       "      <td>...</td>\n",
       "      <td>-81.75520324707031, 26.53619956970215</td>\n",
       "      <td>large_airport</td>\n",
       "      <td>John Glenn Columbus International Airport</td>\n",
       "      <td>815.0</td>\n",
       "      <td>NaN</td>\n",
       "      <td>US</td>\n",
       "      <td>Columbus</td>\n",
       "      <td>CMH</td>\n",
       "      <td>-82.891899, 39.998001</td>\n",
       "      <td>CMH-RSW</td>\n",
       "    </tr>\n",
       "    <tr>\n",
       "      <th>4</th>\n",
       "      <td>2019-03-02</td>\n",
       "      <td>WN</td>\n",
       "      <td>N7832A</td>\n",
       "      <td>6933</td>\n",
       "      <td>14635</td>\n",
       "      <td>RSW</td>\n",
       "      <td>Fort Myers, FL</td>\n",
       "      <td>11259</td>\n",
       "      <td>DAL</td>\n",
       "      <td>Dallas, TX</td>\n",
       "      <td>...</td>\n",
       "      <td>-81.75520324707031, 26.53619956970215</td>\n",
       "      <td>large_airport</td>\n",
       "      <td>Dallas Love Field</td>\n",
       "      <td>487.0</td>\n",
       "      <td>NaN</td>\n",
       "      <td>US</td>\n",
       "      <td>Dallas</td>\n",
       "      <td>DAL</td>\n",
       "      <td>-96.851799, 32.847099</td>\n",
       "      <td>DAL-RSW</td>\n",
       "    </tr>\n",
       "  </tbody>\n",
       "</table>\n",
       "<p>5 rows × 33 columns</p>\n",
       "</div>"
      ],
      "text/plain": [
       "     FL_DATE OP_CARRIER TAIL_NUM OP_CARRIER_FL_NUM  ORIGIN_AIRPORT_ID ORIGIN  \\\n",
       "0 2019-03-02         WN   N955WN              4591              14635    RSW   \n",
       "1 2019-03-02         WN   N8686A              3231              14635    RSW   \n",
       "2 2019-03-02         WN   N201LV              3383              14635    RSW   \n",
       "3 2019-03-02         WN   N413WN              5498              14635    RSW   \n",
       "4 2019-03-02         WN   N7832A              6933              14635    RSW   \n",
       "\n",
       "  ORIGIN_CITY_NAME  DEST_AIRPORT_ID DESTINATION DEST_CITY_NAME  ...  \\\n",
       "0   Fort Myers, FL            11042         CLE  Cleveland, OH  ...   \n",
       "1   Fort Myers, FL            11066         CMH   Columbus, OH  ...   \n",
       "2   Fort Myers, FL            11066         CMH   Columbus, OH  ...   \n",
       "3   Fort Myers, FL            11066         CMH   Columbus, OH  ...   \n",
       "4   Fort Myers, FL            11259         DAL     Dallas, TX  ...   \n",
       "\n",
       "                      COORDINATES_Origin      TYPE_Dest  \\\n",
       "0  -81.75520324707031, 26.53619956970215  large_airport   \n",
       "1  -81.75520324707031, 26.53619956970215  large_airport   \n",
       "2  -81.75520324707031, 26.53619956970215  large_airport   \n",
       "3  -81.75520324707031, 26.53619956970215  large_airport   \n",
       "4  -81.75520324707031, 26.53619956970215  large_airport   \n",
       "\n",
       "                                   NAME_Dest  ELEVATION_FT_Dest  \\\n",
       "0    Cleveland Hopkins International Airport              791.0   \n",
       "1  John Glenn Columbus International Airport              815.0   \n",
       "2  John Glenn Columbus International Airport              815.0   \n",
       "3  John Glenn Columbus International Airport              815.0   \n",
       "4                          Dallas Love Field              487.0   \n",
       "\n",
       "   CONTINENT_Dest  ISO_COUNTRY_Dest MUNICIPALITY_Dest IATA_CODE_Dest  \\\n",
       "0             NaN                US         Cleveland            CLE   \n",
       "1             NaN                US          Columbus            CMH   \n",
       "2             NaN                US          Columbus            CMH   \n",
       "3             NaN                US          Columbus            CMH   \n",
       "4             NaN                US            Dallas            DAL   \n",
       "\n",
       "                COORDINATES_Dest    Route  \n",
       "0  -81.8498001099, 41.4117012024  CLE-RSW  \n",
       "1          -82.891899, 39.998001  CMH-RSW  \n",
       "2          -82.891899, 39.998001  CMH-RSW  \n",
       "3          -82.891899, 39.998001  CMH-RSW  \n",
       "4          -96.851799, 32.847099  DAL-RSW  \n",
       "\n",
       "[5 rows x 33 columns]"
      ]
     },
     "execution_count": 1064,
     "metadata": {},
     "output_type": "execute_result"
    }
   ],
   "source": [
    "flights_airport.head(5)"
   ]
  },
  {
   "cell_type": "code",
   "execution_count": 1066,
   "id": "feb5fea3-694b-45e2-a83e-4fd246ac6bc1",
   "metadata": {},
   "outputs": [],
   "source": [
    "flights_df=flights_airport"
   ]
  },
  {
   "cell_type": "code",
   "execution_count": 1068,
   "id": "f99cc156-b07b-4099-89d4-1847ae813dcb",
   "metadata": {},
   "outputs": [],
   "source": [
    "#Calculating Flight costs\n",
    "flights_df['Flight_Cost'] = flights_df['DISTANCE'] * 9.18"
   ]
  },
  {
   "cell_type": "code",
   "execution_count": 1070,
   "id": "2664bb88-4dc3-48ec-b994-b636724502fc",
   "metadata": {},
   "outputs": [],
   "source": [
    "#Calculating delays cost\n",
    "\n",
    "def calculate_delay_cost(delay):\n",
    "    extra_minutes = max(delay - 15, 0)  \n",
    "    return extra_minutes * 75\n",
    "\n",
    "flights_df['DEP_DELAY_COST'] = flights_df['DEP_DELAY'].apply(calculate_delay_cost)\n",
    "flights_df['ARR_DELAY_COST'] = flights_df['ARR_DELAY'].apply(calculate_delay_cost)\n",
    "flights_df['Total_Delay_Cost'] = flights_df['DEP_DELAY_COST'] + flights_df['ARR_DELAY_COST']\n"
   ]
  },
  {
   "cell_type": "code",
   "execution_count": 1072,
   "id": "9d802810-fdd6-47bf-9dc6-48b1f549e724",
   "metadata": {},
   "outputs": [],
   "source": [
    "# Considering 200 passengers on each flight calculating the baggage revenue\n",
    "\n",
    "flights_df['Passengers'] = 200 * flights_df['OCCUPANCY_RATE']"
   ]
  },
  {
   "cell_type": "code",
   "execution_count": 1074,
   "id": "09bd7763-564c-48bb-a320-9d107730ba79",
   "metadata": {},
   "outputs": [],
   "source": [
    "# 50% check 1 bag per round trip\n",
    "flights_df['Baggage_Revenue'] = flights_df['Passengers'] * 0.5 * 35 "
   ]
  },
  {
   "cell_type": "code",
   "execution_count": 1076,
   "id": "275671ae-3c5c-4a6a-87aa-186e3502726d",
   "metadata": {},
   "outputs": [
    {
     "data": {
      "text/html": [
       "<div>\n",
       "<style scoped>\n",
       "    .dataframe tbody tr th:only-of-type {\n",
       "        vertical-align: middle;\n",
       "    }\n",
       "\n",
       "    .dataframe tbody tr th {\n",
       "        vertical-align: top;\n",
       "    }\n",
       "\n",
       "    .dataframe thead th {\n",
       "        text-align: right;\n",
       "    }\n",
       "</style>\n",
       "<table border=\"1\" class=\"dataframe\">\n",
       "  <thead>\n",
       "    <tr style=\"text-align: right;\">\n",
       "      <th></th>\n",
       "      <th>FL_DATE</th>\n",
       "      <th>OP_CARRIER</th>\n",
       "      <th>TAIL_NUM</th>\n",
       "      <th>OP_CARRIER_FL_NUM</th>\n",
       "      <th>ORIGIN_AIRPORT_ID</th>\n",
       "      <th>ORIGIN</th>\n",
       "      <th>ORIGIN_CITY_NAME</th>\n",
       "      <th>DEST_AIRPORT_ID</th>\n",
       "      <th>DESTINATION</th>\n",
       "      <th>DEST_CITY_NAME</th>\n",
       "      <th>...</th>\n",
       "      <th>MUNICIPALITY_Dest</th>\n",
       "      <th>IATA_CODE_Dest</th>\n",
       "      <th>COORDINATES_Dest</th>\n",
       "      <th>Route</th>\n",
       "      <th>Flight_Cost</th>\n",
       "      <th>DEP_DELAY_COST</th>\n",
       "      <th>ARR_DELAY_COST</th>\n",
       "      <th>Total_Delay_Cost</th>\n",
       "      <th>Passengers</th>\n",
       "      <th>Baggage_Revenue</th>\n",
       "    </tr>\n",
       "  </thead>\n",
       "  <tbody>\n",
       "    <tr>\n",
       "      <th>1832455</th>\n",
       "      <td>2019-03-26</td>\n",
       "      <td>AA</td>\n",
       "      <td>N872NN</td>\n",
       "      <td>1433</td>\n",
       "      <td>15370</td>\n",
       "      <td>TUL</td>\n",
       "      <td>Tulsa, OK</td>\n",
       "      <td>11057</td>\n",
       "      <td>CLT</td>\n",
       "      <td>Charlotte, NC</td>\n",
       "      <td>...</td>\n",
       "      <td>Charlotte</td>\n",
       "      <td>CLT</td>\n",
       "      <td>-80.94309997558594, 35.2140007019043</td>\n",
       "      <td>CLT-TUL</td>\n",
       "      <td>5618.16</td>\n",
       "      <td>0.0</td>\n",
       "      <td>0.0</td>\n",
       "      <td>0.0</td>\n",
       "      <td>119.068857</td>\n",
       "      <td>2083.705001</td>\n",
       "    </tr>\n",
       "    <tr>\n",
       "      <th>1832456</th>\n",
       "      <td>2019-03-27</td>\n",
       "      <td>AA</td>\n",
       "      <td>N945AN</td>\n",
       "      <td>1433</td>\n",
       "      <td>15370</td>\n",
       "      <td>TUL</td>\n",
       "      <td>Tulsa, OK</td>\n",
       "      <td>11057</td>\n",
       "      <td>CLT</td>\n",
       "      <td>Charlotte, NC</td>\n",
       "      <td>...</td>\n",
       "      <td>Charlotte</td>\n",
       "      <td>CLT</td>\n",
       "      <td>-80.94309997558594, 35.2140007019043</td>\n",
       "      <td>CLT-TUL</td>\n",
       "      <td>5618.16</td>\n",
       "      <td>0.0</td>\n",
       "      <td>0.0</td>\n",
       "      <td>0.0</td>\n",
       "      <td>70.038355</td>\n",
       "      <td>1225.671212</td>\n",
       "    </tr>\n",
       "  </tbody>\n",
       "</table>\n",
       "<p>2 rows × 39 columns</p>\n",
       "</div>"
      ],
      "text/plain": [
       "           FL_DATE OP_CARRIER TAIL_NUM OP_CARRIER_FL_NUM  ORIGIN_AIRPORT_ID  \\\n",
       "1832455 2019-03-26         AA   N872NN              1433              15370   \n",
       "1832456 2019-03-27         AA   N945AN              1433              15370   \n",
       "\n",
       "        ORIGIN ORIGIN_CITY_NAME  DEST_AIRPORT_ID DESTINATION DEST_CITY_NAME  \\\n",
       "1832455    TUL        Tulsa, OK            11057         CLT  Charlotte, NC   \n",
       "1832456    TUL        Tulsa, OK            11057         CLT  Charlotte, NC   \n",
       "\n",
       "         ...  MUNICIPALITY_Dest  IATA_CODE_Dest  \\\n",
       "1832455  ...          Charlotte             CLT   \n",
       "1832456  ...          Charlotte             CLT   \n",
       "\n",
       "                             COORDINATES_Dest    Route  Flight_Cost  \\\n",
       "1832455  -80.94309997558594, 35.2140007019043  CLT-TUL      5618.16   \n",
       "1832456  -80.94309997558594, 35.2140007019043  CLT-TUL      5618.16   \n",
       "\n",
       "         DEP_DELAY_COST ARR_DELAY_COST Total_Delay_Cost  Passengers  \\\n",
       "1832455             0.0            0.0              0.0  119.068857   \n",
       "1832456             0.0            0.0              0.0   70.038355   \n",
       "\n",
       "        Baggage_Revenue  \n",
       "1832455     2083.705001  \n",
       "1832456     1225.671212  \n",
       "\n",
       "[2 rows x 39 columns]"
      ]
     },
     "execution_count": 1076,
     "metadata": {},
     "output_type": "execute_result"
    }
   ],
   "source": [
    "flights_df.tail(2)"
   ]
  },
  {
   "cell_type": "code",
   "execution_count": 1078,
   "id": "57b5b913-c7a2-4bc1-88d3-fa472080219a",
   "metadata": {},
   "outputs": [],
   "source": [
    "#Airport Operational costs\n",
    "airport_fee_map = {\n",
    "    'medium_airport': 5000,\n",
    "    'large_airport': 10000\n",
    "}\n",
    "\n",
    "flights_df['AIRPORT_FEE_ORIGIN'] = flights_df['TYPE_Origin'].map(airport_fee_map)\n",
    "flights_df['AIRPORT_FEE_DESTINATION'] = flights_df['TYPE_Dest'].map(airport_fee_map)\n",
    "flights_df['AIRPORT_FEE']=flights_df['AIRPORT_FEE_ORIGIN']+flights_df['AIRPORT_FEE_DESTINATION']"
   ]
  },
  {
   "cell_type": "code",
   "execution_count": 1080,
   "id": "c8fdcd48-51bd-4752-8bd3-8d704222f7ed",
   "metadata": {},
   "outputs": [
    {
     "data": {
      "text/html": [
       "<div>\n",
       "<style scoped>\n",
       "    .dataframe tbody tr th:only-of-type {\n",
       "        vertical-align: middle;\n",
       "    }\n",
       "\n",
       "    .dataframe tbody tr th {\n",
       "        vertical-align: top;\n",
       "    }\n",
       "\n",
       "    .dataframe thead th {\n",
       "        text-align: right;\n",
       "    }\n",
       "</style>\n",
       "<table border=\"1\" class=\"dataframe\">\n",
       "  <thead>\n",
       "    <tr style=\"text-align: right;\">\n",
       "      <th></th>\n",
       "      <th>FL_DATE</th>\n",
       "      <th>OP_CARRIER</th>\n",
       "      <th>TAIL_NUM</th>\n",
       "      <th>OP_CARRIER_FL_NUM</th>\n",
       "      <th>ORIGIN_AIRPORT_ID</th>\n",
       "      <th>ORIGIN</th>\n",
       "      <th>ORIGIN_CITY_NAME</th>\n",
       "      <th>DEST_AIRPORT_ID</th>\n",
       "      <th>DESTINATION</th>\n",
       "      <th>DEST_CITY_NAME</th>\n",
       "      <th>...</th>\n",
       "      <th>Route</th>\n",
       "      <th>Flight_Cost</th>\n",
       "      <th>DEP_DELAY_COST</th>\n",
       "      <th>ARR_DELAY_COST</th>\n",
       "      <th>Total_Delay_Cost</th>\n",
       "      <th>Passengers</th>\n",
       "      <th>Baggage_Revenue</th>\n",
       "      <th>AIRPORT_FEE_ORIGIN</th>\n",
       "      <th>AIRPORT_FEE_DESTINATION</th>\n",
       "      <th>AIRPORT_FEE</th>\n",
       "    </tr>\n",
       "  </thead>\n",
       "  <tbody>\n",
       "    <tr>\n",
       "      <th>0</th>\n",
       "      <td>2019-03-02</td>\n",
       "      <td>WN</td>\n",
       "      <td>N955WN</td>\n",
       "      <td>4591</td>\n",
       "      <td>14635</td>\n",
       "      <td>RSW</td>\n",
       "      <td>Fort Myers, FL</td>\n",
       "      <td>11042</td>\n",
       "      <td>CLE</td>\n",
       "      <td>Cleveland, OH</td>\n",
       "      <td>...</td>\n",
       "      <td>CLE-RSW</td>\n",
       "      <td>9409.50</td>\n",
       "      <td>0.0</td>\n",
       "      <td>0.0</td>\n",
       "      <td>0.0</td>\n",
       "      <td>194.0</td>\n",
       "      <td>3395.0</td>\n",
       "      <td>10000</td>\n",
       "      <td>10000</td>\n",
       "      <td>20000</td>\n",
       "    </tr>\n",
       "    <tr>\n",
       "      <th>1</th>\n",
       "      <td>2019-03-02</td>\n",
       "      <td>WN</td>\n",
       "      <td>N8686A</td>\n",
       "      <td>3231</td>\n",
       "      <td>14635</td>\n",
       "      <td>RSW</td>\n",
       "      <td>Fort Myers, FL</td>\n",
       "      <td>11066</td>\n",
       "      <td>CMH</td>\n",
       "      <td>Columbus, OH</td>\n",
       "      <td>...</td>\n",
       "      <td>CMH-RSW</td>\n",
       "      <td>8537.40</td>\n",
       "      <td>0.0</td>\n",
       "      <td>0.0</td>\n",
       "      <td>0.0</td>\n",
       "      <td>110.0</td>\n",
       "      <td>1925.0</td>\n",
       "      <td>10000</td>\n",
       "      <td>10000</td>\n",
       "      <td>20000</td>\n",
       "    </tr>\n",
       "    <tr>\n",
       "      <th>2</th>\n",
       "      <td>2019-03-02</td>\n",
       "      <td>WN</td>\n",
       "      <td>N201LV</td>\n",
       "      <td>3383</td>\n",
       "      <td>14635</td>\n",
       "      <td>RSW</td>\n",
       "      <td>Fort Myers, FL</td>\n",
       "      <td>11066</td>\n",
       "      <td>CMH</td>\n",
       "      <td>Columbus, OH</td>\n",
       "      <td>...</td>\n",
       "      <td>CMH-RSW</td>\n",
       "      <td>8537.40</td>\n",
       "      <td>0.0</td>\n",
       "      <td>0.0</td>\n",
       "      <td>0.0</td>\n",
       "      <td>182.0</td>\n",
       "      <td>3185.0</td>\n",
       "      <td>10000</td>\n",
       "      <td>10000</td>\n",
       "      <td>20000</td>\n",
       "    </tr>\n",
       "    <tr>\n",
       "      <th>3</th>\n",
       "      <td>2019-03-02</td>\n",
       "      <td>WN</td>\n",
       "      <td>N413WN</td>\n",
       "      <td>5498</td>\n",
       "      <td>14635</td>\n",
       "      <td>RSW</td>\n",
       "      <td>Fort Myers, FL</td>\n",
       "      <td>11066</td>\n",
       "      <td>CMH</td>\n",
       "      <td>Columbus, OH</td>\n",
       "      <td>...</td>\n",
       "      <td>CMH-RSW</td>\n",
       "      <td>8537.40</td>\n",
       "      <td>0.0</td>\n",
       "      <td>0.0</td>\n",
       "      <td>0.0</td>\n",
       "      <td>134.0</td>\n",
       "      <td>2345.0</td>\n",
       "      <td>10000</td>\n",
       "      <td>10000</td>\n",
       "      <td>20000</td>\n",
       "    </tr>\n",
       "    <tr>\n",
       "      <th>4</th>\n",
       "      <td>2019-03-02</td>\n",
       "      <td>WN</td>\n",
       "      <td>N7832A</td>\n",
       "      <td>6933</td>\n",
       "      <td>14635</td>\n",
       "      <td>RSW</td>\n",
       "      <td>Fort Myers, FL</td>\n",
       "      <td>11259</td>\n",
       "      <td>DAL</td>\n",
       "      <td>Dallas, TX</td>\n",
       "      <td>...</td>\n",
       "      <td>DAL-RSW</td>\n",
       "      <td>9225.90</td>\n",
       "      <td>0.0</td>\n",
       "      <td>0.0</td>\n",
       "      <td>0.0</td>\n",
       "      <td>124.0</td>\n",
       "      <td>2170.0</td>\n",
       "      <td>10000</td>\n",
       "      <td>10000</td>\n",
       "      <td>20000</td>\n",
       "    </tr>\n",
       "    <tr>\n",
       "      <th>5</th>\n",
       "      <td>2019-03-02</td>\n",
       "      <td>WN</td>\n",
       "      <td>N492WN</td>\n",
       "      <td>3960</td>\n",
       "      <td>14635</td>\n",
       "      <td>RSW</td>\n",
       "      <td>Fort Myers, FL</td>\n",
       "      <td>11986</td>\n",
       "      <td>GRR</td>\n",
       "      <td>Grand Rapids, MI</td>\n",
       "      <td>...</td>\n",
       "      <td>GRR-RSW</td>\n",
       "      <td>10529.46</td>\n",
       "      <td>0.0</td>\n",
       "      <td>0.0</td>\n",
       "      <td>0.0</td>\n",
       "      <td>98.0</td>\n",
       "      <td>1715.0</td>\n",
       "      <td>10000</td>\n",
       "      <td>5000</td>\n",
       "      <td>15000</td>\n",
       "    </tr>\n",
       "    <tr>\n",
       "      <th>6</th>\n",
       "      <td>2019-03-02</td>\n",
       "      <td>WN</td>\n",
       "      <td>N8634A</td>\n",
       "      <td>3826</td>\n",
       "      <td>14635</td>\n",
       "      <td>RSW</td>\n",
       "      <td>Fort Myers, FL</td>\n",
       "      <td>12339</td>\n",
       "      <td>IND</td>\n",
       "      <td>Indianapolis, IN</td>\n",
       "      <td>...</td>\n",
       "      <td>IND-RSW</td>\n",
       "      <td>8675.10</td>\n",
       "      <td>0.0</td>\n",
       "      <td>150.0</td>\n",
       "      <td>150.0</td>\n",
       "      <td>98.0</td>\n",
       "      <td>1715.0</td>\n",
       "      <td>10000</td>\n",
       "      <td>10000</td>\n",
       "      <td>20000</td>\n",
       "    </tr>\n",
       "    <tr>\n",
       "      <th>7</th>\n",
       "      <td>2019-03-02</td>\n",
       "      <td>WN</td>\n",
       "      <td>N210WN</td>\n",
       "      <td>4014</td>\n",
       "      <td>14635</td>\n",
       "      <td>RSW</td>\n",
       "      <td>Fort Myers, FL</td>\n",
       "      <td>12339</td>\n",
       "      <td>IND</td>\n",
       "      <td>Indianapolis, IN</td>\n",
       "      <td>...</td>\n",
       "      <td>IND-RSW</td>\n",
       "      <td>8675.10</td>\n",
       "      <td>0.0</td>\n",
       "      <td>0.0</td>\n",
       "      <td>0.0</td>\n",
       "      <td>74.0</td>\n",
       "      <td>1295.0</td>\n",
       "      <td>10000</td>\n",
       "      <td>10000</td>\n",
       "      <td>20000</td>\n",
       "    </tr>\n",
       "    <tr>\n",
       "      <th>8</th>\n",
       "      <td>2019-03-02</td>\n",
       "      <td>WN</td>\n",
       "      <td>N232WN</td>\n",
       "      <td>4492</td>\n",
       "      <td>14635</td>\n",
       "      <td>RSW</td>\n",
       "      <td>Fort Myers, FL</td>\n",
       "      <td>12339</td>\n",
       "      <td>IND</td>\n",
       "      <td>Indianapolis, IN</td>\n",
       "      <td>...</td>\n",
       "      <td>IND-RSW</td>\n",
       "      <td>8675.10</td>\n",
       "      <td>0.0</td>\n",
       "      <td>0.0</td>\n",
       "      <td>0.0</td>\n",
       "      <td>62.0</td>\n",
       "      <td>1085.0</td>\n",
       "      <td>10000</td>\n",
       "      <td>10000</td>\n",
       "      <td>20000</td>\n",
       "    </tr>\n",
       "    <tr>\n",
       "      <th>9</th>\n",
       "      <td>2019-03-02</td>\n",
       "      <td>WN</td>\n",
       "      <td>N7889A</td>\n",
       "      <td>4899</td>\n",
       "      <td>14635</td>\n",
       "      <td>RSW</td>\n",
       "      <td>Fort Myers, FL</td>\n",
       "      <td>12339</td>\n",
       "      <td>IND</td>\n",
       "      <td>Indianapolis, IN</td>\n",
       "      <td>...</td>\n",
       "      <td>IND-RSW</td>\n",
       "      <td>8675.10</td>\n",
       "      <td>0.0</td>\n",
       "      <td>0.0</td>\n",
       "      <td>0.0</td>\n",
       "      <td>140.0</td>\n",
       "      <td>2450.0</td>\n",
       "      <td>10000</td>\n",
       "      <td>10000</td>\n",
       "      <td>20000</td>\n",
       "    </tr>\n",
       "  </tbody>\n",
       "</table>\n",
       "<p>10 rows × 42 columns</p>\n",
       "</div>"
      ],
      "text/plain": [
       "     FL_DATE OP_CARRIER TAIL_NUM OP_CARRIER_FL_NUM  ORIGIN_AIRPORT_ID ORIGIN  \\\n",
       "0 2019-03-02         WN   N955WN              4591              14635    RSW   \n",
       "1 2019-03-02         WN   N8686A              3231              14635    RSW   \n",
       "2 2019-03-02         WN   N201LV              3383              14635    RSW   \n",
       "3 2019-03-02         WN   N413WN              5498              14635    RSW   \n",
       "4 2019-03-02         WN   N7832A              6933              14635    RSW   \n",
       "5 2019-03-02         WN   N492WN              3960              14635    RSW   \n",
       "6 2019-03-02         WN   N8634A              3826              14635    RSW   \n",
       "7 2019-03-02         WN   N210WN              4014              14635    RSW   \n",
       "8 2019-03-02         WN   N232WN              4492              14635    RSW   \n",
       "9 2019-03-02         WN   N7889A              4899              14635    RSW   \n",
       "\n",
       "  ORIGIN_CITY_NAME  DEST_AIRPORT_ID DESTINATION    DEST_CITY_NAME  ...  \\\n",
       "0   Fort Myers, FL            11042         CLE     Cleveland, OH  ...   \n",
       "1   Fort Myers, FL            11066         CMH      Columbus, OH  ...   \n",
       "2   Fort Myers, FL            11066         CMH      Columbus, OH  ...   \n",
       "3   Fort Myers, FL            11066         CMH      Columbus, OH  ...   \n",
       "4   Fort Myers, FL            11259         DAL        Dallas, TX  ...   \n",
       "5   Fort Myers, FL            11986         GRR  Grand Rapids, MI  ...   \n",
       "6   Fort Myers, FL            12339         IND  Indianapolis, IN  ...   \n",
       "7   Fort Myers, FL            12339         IND  Indianapolis, IN  ...   \n",
       "8   Fort Myers, FL            12339         IND  Indianapolis, IN  ...   \n",
       "9   Fort Myers, FL            12339         IND  Indianapolis, IN  ...   \n",
       "\n",
       "     Route  Flight_Cost  DEP_DELAY_COST  ARR_DELAY_COST  Total_Delay_Cost  \\\n",
       "0  CLE-RSW      9409.50             0.0             0.0               0.0   \n",
       "1  CMH-RSW      8537.40             0.0             0.0               0.0   \n",
       "2  CMH-RSW      8537.40             0.0             0.0               0.0   \n",
       "3  CMH-RSW      8537.40             0.0             0.0               0.0   \n",
       "4  DAL-RSW      9225.90             0.0             0.0               0.0   \n",
       "5  GRR-RSW     10529.46             0.0             0.0               0.0   \n",
       "6  IND-RSW      8675.10             0.0           150.0             150.0   \n",
       "7  IND-RSW      8675.10             0.0             0.0               0.0   \n",
       "8  IND-RSW      8675.10             0.0             0.0               0.0   \n",
       "9  IND-RSW      8675.10             0.0             0.0               0.0   \n",
       "\n",
       "   Passengers Baggage_Revenue AIRPORT_FEE_ORIGIN  AIRPORT_FEE_DESTINATION  \\\n",
       "0       194.0          3395.0              10000                    10000   \n",
       "1       110.0          1925.0              10000                    10000   \n",
       "2       182.0          3185.0              10000                    10000   \n",
       "3       134.0          2345.0              10000                    10000   \n",
       "4       124.0          2170.0              10000                    10000   \n",
       "5        98.0          1715.0              10000                     5000   \n",
       "6        98.0          1715.0              10000                    10000   \n",
       "7        74.0          1295.0              10000                    10000   \n",
       "8        62.0          1085.0              10000                    10000   \n",
       "9       140.0          2450.0              10000                    10000   \n",
       "\n",
       "  AIRPORT_FEE  \n",
       "0       20000  \n",
       "1       20000  \n",
       "2       20000  \n",
       "3       20000  \n",
       "4       20000  \n",
       "5       15000  \n",
       "6       20000  \n",
       "7       20000  \n",
       "8       20000  \n",
       "9       20000  \n",
       "\n",
       "[10 rows x 42 columns]"
      ]
     },
     "execution_count": 1080,
     "metadata": {},
     "output_type": "execute_result"
    }
   ],
   "source": [
    "flights_df.head(10)"
   ]
  },
  {
   "cell_type": "code",
   "execution_count": 1082,
   "id": "e723d4c7-da03-4dcb-9a5d-70c13c1bb86d",
   "metadata": {},
   "outputs": [],
   "source": [
    "flights_df1=flights_df"
   ]
  },
  {
   "cell_type": "code",
   "execution_count": 945,
   "id": "1bd6d0ac-6411-45c8-b88a-3e58e8bd41ba",
   "metadata": {},
   "outputs": [],
   "source": [
    "flights_df1.to_csv('/Users/priyanka/Desktop/capital one case study/data/flight_air.csv')"
   ]
  },
  {
   "cell_type": "code",
   "execution_count": 1084,
   "id": "df45dd82-7181-492b-a2b6-fa1377180b7e",
   "metadata": {},
   "outputs": [],
   "source": [
    "#Aggregating the columns based on Route \n",
    "flight_cost_summary = flights_df.groupby(['Route']).agg(\n",
    "    Num_Flights=('Route', 'count'),\n",
    "    Total_Flight_Cost=('Flight_Cost', 'sum'),\n",
    "    Total_Delay_Cost=('Total_Delay_Cost', 'sum'),\n",
    "    Total_Baggage_Revenue=('Baggage_Revenue', 'sum'),\n",
    "    Total_Distance=('DISTANCE', 'min'),\n",
    "    Avg_Occupancy=('OCCUPANCY_RATE', 'mean'),\n",
    "    Total_AirportFee=('AIRPORT_FEE','min')\n",
    ").reset_index()\n"
   ]
  },
  {
   "cell_type": "code",
   "execution_count": 1086,
   "id": "e839bd8c-25e9-4ac1-9c22-3f50c24a4110",
   "metadata": {},
   "outputs": [],
   "source": [
    "#Merge Aggregated Tickets data with flights data \n",
    "ticket_flight = pd.merge(\n",
    "    tickets_grouped_df1,\n",
    "    flight_cost_summary,\n",
    "    left_on=['Route'],\n",
    "    right_on=['Route'],\n",
    "    how='inner'\n",
    ")\n"
   ]
  },
  {
   "cell_type": "code",
   "execution_count": 1088,
   "id": "72cc5347-8d3c-49dd-889b-8baa68687932",
   "metadata": {},
   "outputs": [
    {
     "data": {
      "text/html": [
       "<div>\n",
       "<style scoped>\n",
       "    .dataframe tbody tr th:only-of-type {\n",
       "        vertical-align: middle;\n",
       "    }\n",
       "\n",
       "    .dataframe tbody tr th {\n",
       "        vertical-align: top;\n",
       "    }\n",
       "\n",
       "    .dataframe thead th {\n",
       "        text-align: right;\n",
       "    }\n",
       "</style>\n",
       "<table border=\"1\" class=\"dataframe\">\n",
       "  <thead>\n",
       "    <tr style=\"text-align: right;\">\n",
       "      <th></th>\n",
       "      <th>Route</th>\n",
       "      <th>Total_Passengers</th>\n",
       "      <th>Total_Itinfare</th>\n",
       "      <th>TOTAL_TICKETS_REV</th>\n",
       "      <th>Num_Flights</th>\n",
       "      <th>Total_Flight_Cost</th>\n",
       "      <th>Total_Delay_Cost</th>\n",
       "      <th>Total_Baggage_Revenue</th>\n",
       "      <th>Total_Distance</th>\n",
       "      <th>Avg_Occupancy</th>\n",
       "      <th>Total_AirportFee</th>\n",
       "    </tr>\n",
       "  </thead>\n",
       "  <tbody>\n",
       "    <tr>\n",
       "      <th>0</th>\n",
       "      <td>ABE-ATL</td>\n",
       "      <td>94.0</td>\n",
       "      <td>47357.0</td>\n",
       "      <td>4451558.0</td>\n",
       "      <td>434</td>\n",
       "      <td>2757011.04</td>\n",
       "      <td>490125.0</td>\n",
       "      <td>993930.0</td>\n",
       "      <td>692.0</td>\n",
       "      <td>0.654332</td>\n",
       "      <td>15000</td>\n",
       "    </tr>\n",
       "    <tr>\n",
       "      <th>1</th>\n",
       "      <td>ABE-CLT</td>\n",
       "      <td>52.0</td>\n",
       "      <td>18483.0</td>\n",
       "      <td>961116.0</td>\n",
       "      <td>502</td>\n",
       "      <td>2216621.16</td>\n",
       "      <td>393750.0</td>\n",
       "      <td>1161545.0</td>\n",
       "      <td>481.0</td>\n",
       "      <td>0.661096</td>\n",
       "      <td>15000</td>\n",
       "    </tr>\n",
       "    <tr>\n",
       "      <th>2</th>\n",
       "      <td>ABE-DTW</td>\n",
       "      <td>99.0</td>\n",
       "      <td>8102.0</td>\n",
       "      <td>802098.0</td>\n",
       "      <td>497</td>\n",
       "      <td>1939045.50</td>\n",
       "      <td>988050.0</td>\n",
       "      <td>1122660.0</td>\n",
       "      <td>425.0</td>\n",
       "      <td>0.645392</td>\n",
       "      <td>15000</td>\n",
       "    </tr>\n",
       "    <tr>\n",
       "      <th>3</th>\n",
       "      <td>ABE-FLL</td>\n",
       "      <td>100.0</td>\n",
       "      <td>15919.0</td>\n",
       "      <td>1591900.0</td>\n",
       "      <td>40</td>\n",
       "      <td>382255.20</td>\n",
       "      <td>37650.0</td>\n",
       "      <td>84735.0</td>\n",
       "      <td>1041.0</td>\n",
       "      <td>0.605250</td>\n",
       "      <td>15000</td>\n",
       "    </tr>\n",
       "    <tr>\n",
       "      <th>4</th>\n",
       "      <td>ABE-ORD</td>\n",
       "      <td>39.0</td>\n",
       "      <td>16999.0</td>\n",
       "      <td>662961.0</td>\n",
       "      <td>320</td>\n",
       "      <td>1921190.40</td>\n",
       "      <td>1324875.0</td>\n",
       "      <td>726985.0</td>\n",
       "      <td>654.0</td>\n",
       "      <td>0.649094</td>\n",
       "      <td>15000</td>\n",
       "    </tr>\n",
       "    <tr>\n",
       "      <th>5</th>\n",
       "      <td>ABE-PIE</td>\n",
       "      <td>120.0</td>\n",
       "      <td>8640.0</td>\n",
       "      <td>1036800.0</td>\n",
       "      <td>88</td>\n",
       "      <td>783604.80</td>\n",
       "      <td>19200.0</td>\n",
       "      <td>200200.0</td>\n",
       "      <td>970.0</td>\n",
       "      <td>0.650000</td>\n",
       "      <td>10000</td>\n",
       "    </tr>\n",
       "    <tr>\n",
       "      <th>6</th>\n",
       "      <td>ABE-SFB</td>\n",
       "      <td>440.0</td>\n",
       "      <td>19663.0</td>\n",
       "      <td>8651720.0</td>\n",
       "      <td>248</td>\n",
       "      <td>2007996.48</td>\n",
       "      <td>240750.0</td>\n",
       "      <td>579985.0</td>\n",
       "      <td>882.0</td>\n",
       "      <td>0.668185</td>\n",
       "      <td>15000</td>\n",
       "    </tr>\n",
       "    <tr>\n",
       "      <th>7</th>\n",
       "      <td>ABI-DFW</td>\n",
       "      <td>39.0</td>\n",
       "      <td>11526.0</td>\n",
       "      <td>449514.0</td>\n",
       "      <td>975</td>\n",
       "      <td>1414179.00</td>\n",
       "      <td>983925.0</td>\n",
       "      <td>2239020.0</td>\n",
       "      <td>158.0</td>\n",
       "      <td>0.656123</td>\n",
       "      <td>15000</td>\n",
       "    </tr>\n",
       "    <tr>\n",
       "      <th>8</th>\n",
       "      <td>ABQ-ATL</td>\n",
       "      <td>140.0</td>\n",
       "      <td>57649.0</td>\n",
       "      <td>8070860.0</td>\n",
       "      <td>330</td>\n",
       "      <td>3844308.60</td>\n",
       "      <td>135000.0</td>\n",
       "      <td>756245.0</td>\n",
       "      <td>1269.0</td>\n",
       "      <td>0.654758</td>\n",
       "      <td>20000</td>\n",
       "    </tr>\n",
       "    <tr>\n",
       "      <th>9</th>\n",
       "      <td>ABQ-AUS</td>\n",
       "      <td>262.0</td>\n",
       "      <td>54931.0</td>\n",
       "      <td>14391922.0</td>\n",
       "      <td>140</td>\n",
       "      <td>795538.80</td>\n",
       "      <td>122100.0</td>\n",
       "      <td>313285.0</td>\n",
       "      <td>619.0</td>\n",
       "      <td>0.639357</td>\n",
       "      <td>20000</td>\n",
       "    </tr>\n",
       "  </tbody>\n",
       "</table>\n",
       "</div>"
      ],
      "text/plain": [
       "     Route  Total_Passengers  Total_Itinfare  TOTAL_TICKETS_REV  Num_Flights  \\\n",
       "0  ABE-ATL              94.0         47357.0          4451558.0          434   \n",
       "1  ABE-CLT              52.0         18483.0           961116.0          502   \n",
       "2  ABE-DTW              99.0          8102.0           802098.0          497   \n",
       "3  ABE-FLL             100.0         15919.0          1591900.0           40   \n",
       "4  ABE-ORD              39.0         16999.0           662961.0          320   \n",
       "5  ABE-PIE             120.0          8640.0          1036800.0           88   \n",
       "6  ABE-SFB             440.0         19663.0          8651720.0          248   \n",
       "7  ABI-DFW              39.0         11526.0           449514.0          975   \n",
       "8  ABQ-ATL             140.0         57649.0          8070860.0          330   \n",
       "9  ABQ-AUS             262.0         54931.0         14391922.0          140   \n",
       "\n",
       "   Total_Flight_Cost  Total_Delay_Cost  Total_Baggage_Revenue  Total_Distance  \\\n",
       "0         2757011.04          490125.0               993930.0           692.0   \n",
       "1         2216621.16          393750.0              1161545.0           481.0   \n",
       "2         1939045.50          988050.0              1122660.0           425.0   \n",
       "3          382255.20           37650.0                84735.0          1041.0   \n",
       "4         1921190.40         1324875.0               726985.0           654.0   \n",
       "5          783604.80           19200.0               200200.0           970.0   \n",
       "6         2007996.48          240750.0               579985.0           882.0   \n",
       "7         1414179.00          983925.0              2239020.0           158.0   \n",
       "8         3844308.60          135000.0               756245.0          1269.0   \n",
       "9          795538.80          122100.0               313285.0           619.0   \n",
       "\n",
       "   Avg_Occupancy  Total_AirportFee  \n",
       "0       0.654332             15000  \n",
       "1       0.661096             15000  \n",
       "2       0.645392             15000  \n",
       "3       0.605250             15000  \n",
       "4       0.649094             15000  \n",
       "5       0.650000             10000  \n",
       "6       0.668185             15000  \n",
       "7       0.656123             15000  \n",
       "8       0.654758             20000  \n",
       "9       0.639357             20000  "
      ]
     },
     "execution_count": 1088,
     "metadata": {},
     "output_type": "execute_result"
    }
   ],
   "source": [
    "ticket_flight.head(10)"
   ]
  },
  {
   "cell_type": "code",
   "execution_count": 1090,
   "id": "fc8920b1-dd6f-479d-b89d-ded5b5c48132",
   "metadata": {},
   "outputs": [],
   "source": [
    "ticket_flight['Total_Revenue'] = (\n",
    "    ticket_flight['TOTAL_TICKETS_REV'] + ticket_flight['Total_Baggage_Revenue']\n",
    ")"
   ]
  },
  {
   "cell_type": "code",
   "execution_count": 1092,
   "id": "a998fc06-94fe-484c-acac-9d04cc8da696",
   "metadata": {},
   "outputs": [],
   "source": [
    "ticket_flight['Total_Cost'] = (\n",
    "    ticket_flight['Total_Flight_Cost'] + ticket_flight['Total_Delay_Cost'] \n",
    ")"
   ]
  },
  {
   "cell_type": "code",
   "execution_count": 1094,
   "id": "d2b2f9eb-9d8f-40bd-8393-d0cdd99dc62e",
   "metadata": {},
   "outputs": [],
   "source": [
    "ticket_flight['Profit'] = ticket_flight['Total_Revenue'] - ticket_flight['Total_Cost']"
   ]
  },
  {
   "cell_type": "code",
   "execution_count": 1096,
   "id": "73e424b1-b4f8-4478-ab9e-10e63a66d734",
   "metadata": {},
   "outputs": [
    {
     "name": "stdout",
     "output_type": "stream",
     "text": [
      "        Route        Profit  Total_Revenue    Total_Cost  Num_Flights\n",
      "1989  JFK-LAX  8.872564e+09   9.024291e+09  1.517272e+08         6320\n",
      "2015  JFK-SFO  3.615632e+09   3.711999e+09  9.636643e+07         3721\n",
      "1564  EWR-SFO  3.363483e+09   3.427447e+09  6.396333e+07         2424\n",
      "2180  LGA-ORD  2.492513e+09   2.562585e+09  7.007179e+07         7156\n",
      "2121  LAX-ORD  2.080179e+09   2.146499e+09  6.631937e+07         3726\n",
      "1528  EWR-LAX  2.060166e+09   2.110977e+09  5.081058e+07         2114\n",
      "182   ATL-LAX  1.969195e+09   2.026819e+09  5.762410e+07         3198\n",
      "185   ATL-LGA  1.749499e+09   1.788449e+09  3.895027e+07         4594\n",
      "2139  LAX-SFO  1.515435e+09   1.563278e+09  4.784310e+07         8340\n",
      "569   BOS-SFO  1.416582e+09   1.479503e+09  6.292023e+07         2256\n"
     ]
    }
   ],
   "source": [
    "# Top 10 profitable routes based on profit \n",
    "top_10_profitable_routes = ticket_flight.sort_values(by='Profit', ascending=False).head(10)\n",
    "\n",
    "print(top_10_profitable_routes[[\n",
    "    'Route', 'Profit', 'Total_Revenue', 'Total_Cost','Num_Flights'\n",
    "]])\n"
   ]
  },
  {
   "cell_type": "code",
   "execution_count": 1098,
   "id": "0826c91a-2d0e-4c2e-9323-c6529bbfc4b3",
   "metadata": {},
   "outputs": [],
   "source": [
    "#Top 5 Routes by Profitability + Occupancy (70%)+ Low Delay \n",
    "recommended_routes = ticket_flight[\n",
    "    (ticket_flight['Avg_Occupancy'] > 0.7) &  # high occupancy\n",
    "    (ticket_flight['Total_Delay_Cost'] < ticket_flight['Total_Delay_Cost'].quantile(0.75))  # avoid high delay costs\n",
    "].sort_values(by='Profit', ascending=False).head(5)\n"
   ]
  },
  {
   "cell_type": "code",
   "execution_count": 1100,
   "id": "6b012c84-35f0-4da3-8ddd-cb9075912fdd",
   "metadata": {},
   "outputs": [
    {
     "name": "stdout",
     "output_type": "stream",
     "text": [
      "        Route       Profit  Avg_Occupancy  Total_Delay_Cost\n",
      "294   AUS-PIT  14808105.80       0.749286             450.0\n",
      "1720  GSP-LAS   7548773.00       0.762500               0.0\n",
      "572   BOS-SMF   7380300.08       0.725000            4800.0\n",
      "2112  LAX-MSN   6166211.68       0.880000               0.0\n",
      "1215  DEN-PBI   5292770.24       0.773750               0.0\n"
     ]
    }
   ],
   "source": [
    "print(recommended_routes[['Route', 'Profit','Avg_Occupancy', 'Total_Delay_Cost']])"
   ]
  },
  {
   "cell_type": "code",
   "execution_count": 1102,
   "id": "a6e15a05-3414-4cdb-bfd5-1697ec3804c2",
   "metadata": {},
   "outputs": [],
   "source": [
    "airplane_cost = 90_000_000  "
   ]
  },
  {
   "cell_type": "code",
   "execution_count": 1104,
   "id": "95df2649-195a-4b8d-9a49-d31b53851d3d",
   "metadata": {},
   "outputs": [],
   "source": [
    "#Calculate profit per flight\n",
    "ticket_flight['Profit_per_Flight'] = (\n",
    "    ticket_flight['Profit'] / ticket_flight['Num_Flights']\n",
    ")"
   ]
  },
  {
   "cell_type": "code",
   "execution_count": 1106,
   "id": "92719f5e-1b6b-43fb-9e5e-7f023f0e98ab",
   "metadata": {},
   "outputs": [],
   "source": [
    "#Calculate breakeven flights\n",
    "ticket_flight['BreakEven_Flights'] = (\n",
    "    airplane_cost / ticket_flight['Profit_per_Flight']\n",
    ").round(0)\n"
   ]
  },
  {
   "cell_type": "code",
   "execution_count": 1110,
   "id": "b1fab4ad-11d3-4144-b00e-34b82cf706a6",
   "metadata": {},
   "outputs": [
    {
     "name": "stdout",
     "output_type": "stream",
     "text": [
      "        Route       Profit  Profit_per_Flight  Num_Flights  Avg_Occupancy  \\\n",
      "0     ABE-ATL   2198351.96        5065.327097          434       0.654332   \n",
      "1     ABE-CLT   -487710.16        -971.534183          502       0.661096   \n",
      "2     ABE-DTW  -1002337.50       -2016.775654          497       0.645392   \n",
      "3     ABE-FLL   1256729.80       31418.245000           40       0.605250   \n",
      "4     ABE-ORD  -1856119.40       -5800.373125          320       0.649094   \n",
      "...       ...          ...                ...          ...            ...   \n",
      "2789  STL-TPA  53975779.18      128208.501615          421       0.658480   \n",
      "2790  STL-TUL    976846.50        3005.681538          325       0.646308   \n",
      "2791  SYR-TPA   2473912.16       34359.891111           72       0.615556   \n",
      "2792  TPA-TTN    -83681.30        -533.001911          157       0.639427   \n",
      "2793  VPS-XNA      4325.50         173.020000           25       0.605600   \n",
      "\n",
      "      Total_Delay_Cost  BreakEven_Flights  \n",
      "0             490125.0            17768.0  \n",
      "1             393750.0           -92637.0  \n",
      "2             988050.0           -44626.0  \n",
      "3              37650.0             2865.0  \n",
      "4            1324875.0           -15516.0  \n",
      "...                ...                ...  \n",
      "2789          462525.0              702.0  \n",
      "2790          202050.0            29943.0  \n",
      "2791          209400.0             2619.0  \n",
      "2792          359775.0          -168855.0  \n",
      "2793           73275.0           520171.0  \n",
      "\n",
      "[2794 rows x 7 columns]\n"
     ]
    }
   ],
   "source": [
    "Break_even = ticket_flight[[\n",
    "    'Route', 'Profit', 'Profit_per_Flight', 'Num_Flights',\n",
    "    'Avg_Occupancy', 'Total_Delay_Cost', 'BreakEven_Flights'\n",
    "]]\n",
    "print(Break_even)\n"
   ]
  },
  {
   "cell_type": "code",
   "execution_count": 1112,
   "id": "170af5ce-e3e5-4495-8fb1-37f0b7785101",
   "metadata": {},
   "outputs": [
    {
     "name": "stdout",
     "output_type": "stream",
     "text": [
      "        Route        Profit  Profit_per_Flight  Num_Flights  Avg_Occupancy  \\\n",
      "1989  JFK-LAX  8.872564e+09       1.403887e+06         6320       0.650074   \n",
      "2015  JFK-SFO  3.615632e+09       9.716829e+05         3721       0.649852   \n",
      "1564  EWR-SFO  3.363483e+09       1.387576e+06         2424       0.649905   \n",
      "2180  LGA-ORD  2.492513e+09       3.483110e+05         7156       0.649124   \n",
      "2121  LAX-ORD  2.080179e+09       5.582875e+05         3726       0.649120   \n",
      "1528  EWR-LAX  2.060166e+09       9.745346e+05         2114       0.653538   \n",
      "182   ATL-LAX  1.969195e+09       6.157583e+05         3198       0.648830   \n",
      "185   ATL-LGA  1.749499e+09       3.808225e+05         4594       0.651110   \n",
      "2139  LAX-SFO  1.515435e+09       1.817068e+05         8340       0.649013   \n",
      "569   BOS-SFO  1.416582e+09       6.279177e+05         2256       0.652819   \n",
      "\n",
      "      Total_Delay_Cost  BreakEven_Flights  \n",
      "1989         8133600.0               64.0  \n",
      "2015         8031825.0               93.0  \n",
      "1564         6886125.0               65.0  \n",
      "2180        21919500.0              258.0  \n",
      "2121         6770325.0              161.0  \n",
      "1528         3186975.0               92.0  \n",
      "182          3579825.0              146.0  \n",
      "185          6814500.0              236.0  \n",
      "2139        22041975.0              495.0  \n",
      "569          6920175.0              143.0  \n"
     ]
    }
   ],
   "source": [
    "Break_even_top10 = Break_even.sort_values(by='Profit', ascending=False).head(10)\n",
    "print(Break_even_top10)"
   ]
  },
  {
   "cell_type": "code",
   "execution_count": 1114,
   "id": "3825e349-82d2-4b53-b61e-c36705283499",
   "metadata": {},
   "outputs": [
    {
     "data": {
      "image/png": "[encoded data removed]",
      "text/plain": [
       "<Figure size 1200x600 with 1 Axes>"
      ]
     },
     "metadata": {},
     "output_type": "display_data"
    }
   ],
   "source": [
    "# TOP 10 busiest Riund Trip Routes.\n",
    "import matplotlib.pyplot as plt\n",
    "\n",
    "# Sort and select top 10 routes\n",
    "top_10_busiest_routes = route_counts.sort_values(by='FlightCount', ascending=False).head(10)\n",
    "plt.figure(figsize=(12, 6))\n",
    "bars = plt.barh(top_10_busiest_routes['Route'], top_10_busiest_routes['FlightCount'], color='skyblue')\n",
    "plt.xlabel('Number of Roundtrip Flights')\n",
    "plt.title('Top 10 Busiest Round-Trip Routes (Q1, Non-Cancelled)')\n",
    "plt.gca().invert_yaxis()  # Highest at the top\n",
    "plt.grid(axis='x', linestyle='--', alpha=0.7)\n",
    "for bar in bars:\n",
    "    width = bar.get_width()\n",
    "    plt.text(width + 2, bar.get_y() + bar.get_height()/2,\n",
    "             f'{int(width)}', va='center', fontsize=10)\n",
    "\n",
    "plt.tight_layout()\n",
    "plt.show()\n"
   ]
  },
  {
   "cell_type": "code",
   "execution_count": 1116,
   "id": "98b648b9-2f31-40bd-8bed-7d47cb2375ff",
   "metadata": {},
   "outputs": [
    {
     "data": {
      "image/png": "[encoded data removed]",
      "text/plain": [
       "<Figure size 1200x600 with 1 Axes>"
      ]
     },
     "metadata": {},
     "output_type": "display_data"
    }
   ],
   "source": [
    "import matplotlib.pyplot as plt\n",
    "\n",
    "# Sort top 10 profitable routes\n",
    "top_10_profitable_routes = ticket_flight.sort_values(by='Profit', ascending=False).head(10)\n",
    "plt.figure(figsize=(12, 6))\n",
    "bars = plt.barh(top_10_profitable_routes['Route'], top_10_profitable_routes['Profit'], color='green')\n",
    "plt.xlabel('Profit ($)')\n",
    "plt.title('Top 10 Profitable Routes')\n",
    "plt.gca().invert_yaxis()\n",
    "for bar in bars:\n",
    "    width = bar.get_width()\n",
    "    plt.text(width + 0.01 * max(top_10_profitable_routes['Profit']),\n",
    "             bar.get_y() + bar.get_height() / 2,\n",
    "             f'${width:,.0f}', va='center', fontsize=10)\n",
    "\n",
    "plt.grid(axis='x', linestyle='--', alpha=0.5)\n",
    "plt.tight_layout()\n",
    "plt.show()\n"
   ]
  },
  {
   "cell_type": "code",
   "execution_count": 1118,
   "id": "2bc1ed1d-eab1-414e-91d3-cf2bb48e7e50",
   "metadata": {},
   "outputs": [
    {
     "data": {
      "image/png": "[encoded data removed]",
      "text/plain": [
       "<Figure size 1000x500 with 1 Axes>"
      ]
     },
     "metadata": {},
     "output_type": "display_data"
    }
   ],
   "source": [
    "#Top 5 recommended Routes based on Profit + High Occupancy + Low Delays\n",
    "import matplotlib.pyplot as plt\n",
    "\n",
    "# Ensure the data is sorted\n",
    "recommended_routes = ticket_flight[\n",
    "    (ticket_flight['Avg_Occupancy'] > 0.7) & \n",
    "    (ticket_flight['Total_Delay_Cost'] < ticket_flight['Total_Delay_Cost'].quantile(0.75))\n",
    "].sort_values(by='Profit', ascending=False).head(5)\n",
    "plt.figure(figsize=(10, 5))\n",
    "bars = plt.barh(recommended_routes['Route'], recommended_routes['Profit'], color='teal')\n",
    "plt.xlabel('Profit ($)')\n",
    "plt.title('Top 5 Recommended Routes\\n(High Occupancy + Profit + Low Delay)')\n",
    "plt.gca().invert_yaxis()\n",
    "for bar in bars:\n",
    "    width = bar.get_width()\n",
    "    plt.text(width + 0.01 * max(recommended_routes['Profit']),\n",
    "             bar.get_y() + bar.get_height() / 2,\n",
    "             f'${width:,.0f}', va='center', fontsize=10)\n",
    "\n",
    "plt.grid(axis='x', linestyle='--', alpha=0.5)\n",
    "plt.tight_layout()\n",
    "plt.show()\n"
   ]
  },
  {
   "cell_type": "code",
   "execution_count": 1120,
   "id": "90929c0c-1cac-4f29-8621-3e4bef5e9df2",
   "metadata": {},
   "outputs": [
    {
     "data": {
      "image/png": "[encoded data removed]",
      "text/plain": [
       "<Figure size 1200x600 with 1 Axes>"
      ]
     },
     "metadata": {},
     "output_type": "display_data"
    }
   ],
   "source": [
    "import matplotlib.pyplot as plt\n",
    "\n",
    "# Filter: only routes with positive BreakEven_Flights\n",
    "Break_even_positive = Break_even[Break_even['BreakEven_Flights'] > 0]\n",
    "Break_even_top = Break_even_positive.sort_values(by='BreakEven_Flights').head(5)\n",
    "plt.figure(figsize=(12, 6))\n",
    "bars = plt.barh(Break_even_top['Route'], Break_even_top['BreakEven_Flights'], color='blue')\n",
    "plt.xlabel('Number of Roundtrip Flights to Break Even')\n",
    "plt.title('Break-Even Flights by Route (Only Profitable Routes)')\n",
    "plt.gca().invert_yaxis()\n",
    "for bar in bars:\n",
    "    width = bar.get_width()\n",
    "    plt.text(width + 5, bar.get_y() + bar.get_height() / 2,\n",
    "             f'{int(width)}', va='center', fontsize=10)\n",
    "\n",
    "plt.grid(axis='x', linestyle='--', alpha=0.5)\n",
    "plt.tight_layout()\n",
    "plt.show()\n"
   ]
  }
 ],
 "metadata": {
  "kernelspec": {
   "display_name": "Python [conda env:base] *",
   "language": "python",
   "name": "conda-base-py"
  },
  "language_info": {
   "codemirror_mode": {
    "name": "ipython",
    "version": 3
   },
   "file_extension": ".py",
   "mimetype": "text/x-python",
   "name": "python",
   "nbconvert_exporter": "python",
   "pygments_lexer": "ipython3",
   "version": "3.12.7"
  }
 },
 "nbformat": 4,
 "nbformat_minor": 5
}
